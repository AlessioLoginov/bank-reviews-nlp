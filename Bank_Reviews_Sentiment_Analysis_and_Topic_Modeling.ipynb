{
  "nbformat": 4,
  "nbformat_minor": 0,
  "metadata": {
    "colab": {
      "provenance": []
    },
    "kernelspec": {
      "name": "python3",
      "display_name": "Python 3"
    },
    "language_info": {
      "name": "python"
    }
  },
  "cells": [
    {
      "cell_type": "markdown",
      "source": [
        "# Часть 1. Анализ текстов"
      ],
      "metadata": {
        "id": "uFP8Y0khEmR8"
      }
    },
    {
      "cell_type": "markdown",
      "source": [
        "##Задача 1.1\n",
        "\n",
        "Загружаем .bz2 файл через интерфейс Colab.\n",
        "\n",
        "Считываем данные построчно.\n",
        "\n",
        "Считаем количество отзывов, городов и банков."
      ],
      "metadata": {
        "id": "VZYhZ1soFBWW"
      }
    },
    {
      "cell_type": "code",
      "source": [
        "# 🔹 Загрузка файла через интерфейс Google Colab\n",
        "from google.colab import files\n",
        "uploaded = files.upload()  # Выберите файл: banki_responses.json.bz2\n"
      ],
      "metadata": {
        "colab": {
          "base_uri": "https://localhost:8080/",
          "height": 74
        },
        "id": "akBi35xOIDti",
        "outputId": "c7fb1f61-64e2-43e5-e44f-07117aa50fbc"
      },
      "execution_count": 1,
      "outputs": [
        {
          "output_type": "display_data",
          "data": {
            "text/plain": [
              "<IPython.core.display.HTML object>"
            ],
            "text/html": [
              "\n",
              "     <input type=\"file\" id=\"files-5379cde6-fa59-422f-b27e-375e666f260d\" name=\"files[]\" multiple disabled\n",
              "        style=\"border:none\" />\n",
              "     <output id=\"result-5379cde6-fa59-422f-b27e-375e666f260d\">\n",
              "      Upload widget is only available when the cell has been executed in the\n",
              "      current browser session. Please rerun this cell to enable.\n",
              "      </output>\n",
              "      <script>// Copyright 2017 Google LLC\n",
              "//\n",
              "// Licensed under the Apache License, Version 2.0 (the \"License\");\n",
              "// you may not use this file except in compliance with the License.\n",
              "// You may obtain a copy of the License at\n",
              "//\n",
              "//      http://www.apache.org/licenses/LICENSE-2.0\n",
              "//\n",
              "// Unless required by applicable law or agreed to in writing, software\n",
              "// distributed under the License is distributed on an \"AS IS\" BASIS,\n",
              "// WITHOUT WARRANTIES OR CONDITIONS OF ANY KIND, either express or implied.\n",
              "// See the License for the specific language governing permissions and\n",
              "// limitations under the License.\n",
              "\n",
              "/**\n",
              " * @fileoverview Helpers for google.colab Python module.\n",
              " */\n",
              "(function(scope) {\n",
              "function span(text, styleAttributes = {}) {\n",
              "  const element = document.createElement('span');\n",
              "  element.textContent = text;\n",
              "  for (const key of Object.keys(styleAttributes)) {\n",
              "    element.style[key] = styleAttributes[key];\n",
              "  }\n",
              "  return element;\n",
              "}\n",
              "\n",
              "// Max number of bytes which will be uploaded at a time.\n",
              "const MAX_PAYLOAD_SIZE = 100 * 1024;\n",
              "\n",
              "function _uploadFiles(inputId, outputId) {\n",
              "  const steps = uploadFilesStep(inputId, outputId);\n",
              "  const outputElement = document.getElementById(outputId);\n",
              "  // Cache steps on the outputElement to make it available for the next call\n",
              "  // to uploadFilesContinue from Python.\n",
              "  outputElement.steps = steps;\n",
              "\n",
              "  return _uploadFilesContinue(outputId);\n",
              "}\n",
              "\n",
              "// This is roughly an async generator (not supported in the browser yet),\n",
              "// where there are multiple asynchronous steps and the Python side is going\n",
              "// to poll for completion of each step.\n",
              "// This uses a Promise to block the python side on completion of each step,\n",
              "// then passes the result of the previous step as the input to the next step.\n",
              "function _uploadFilesContinue(outputId) {\n",
              "  const outputElement = document.getElementById(outputId);\n",
              "  const steps = outputElement.steps;\n",
              "\n",
              "  const next = steps.next(outputElement.lastPromiseValue);\n",
              "  return Promise.resolve(next.value.promise).then((value) => {\n",
              "    // Cache the last promise value to make it available to the next\n",
              "    // step of the generator.\n",
              "    outputElement.lastPromiseValue = value;\n",
              "    return next.value.response;\n",
              "  });\n",
              "}\n",
              "\n",
              "/**\n",
              " * Generator function which is called between each async step of the upload\n",
              " * process.\n",
              " * @param {string} inputId Element ID of the input file picker element.\n",
              " * @param {string} outputId Element ID of the output display.\n",
              " * @return {!Iterable<!Object>} Iterable of next steps.\n",
              " */\n",
              "function* uploadFilesStep(inputId, outputId) {\n",
              "  const inputElement = document.getElementById(inputId);\n",
              "  inputElement.disabled = false;\n",
              "\n",
              "  const outputElement = document.getElementById(outputId);\n",
              "  outputElement.innerHTML = '';\n",
              "\n",
              "  const pickedPromise = new Promise((resolve) => {\n",
              "    inputElement.addEventListener('change', (e) => {\n",
              "      resolve(e.target.files);\n",
              "    });\n",
              "  });\n",
              "\n",
              "  const cancel = document.createElement('button');\n",
              "  inputElement.parentElement.appendChild(cancel);\n",
              "  cancel.textContent = 'Cancel upload';\n",
              "  const cancelPromise = new Promise((resolve) => {\n",
              "    cancel.onclick = () => {\n",
              "      resolve(null);\n",
              "    };\n",
              "  });\n",
              "\n",
              "  // Wait for the user to pick the files.\n",
              "  const files = yield {\n",
              "    promise: Promise.race([pickedPromise, cancelPromise]),\n",
              "    response: {\n",
              "      action: 'starting',\n",
              "    }\n",
              "  };\n",
              "\n",
              "  cancel.remove();\n",
              "\n",
              "  // Disable the input element since further picks are not allowed.\n",
              "  inputElement.disabled = true;\n",
              "\n",
              "  if (!files) {\n",
              "    return {\n",
              "      response: {\n",
              "        action: 'complete',\n",
              "      }\n",
              "    };\n",
              "  }\n",
              "\n",
              "  for (const file of files) {\n",
              "    const li = document.createElement('li');\n",
              "    li.append(span(file.name, {fontWeight: 'bold'}));\n",
              "    li.append(span(\n",
              "        `(${file.type || 'n/a'}) - ${file.size} bytes, ` +\n",
              "        `last modified: ${\n",
              "            file.lastModifiedDate ? file.lastModifiedDate.toLocaleDateString() :\n",
              "                                    'n/a'} - `));\n",
              "    const percent = span('0% done');\n",
              "    li.appendChild(percent);\n",
              "\n",
              "    outputElement.appendChild(li);\n",
              "\n",
              "    const fileDataPromise = new Promise((resolve) => {\n",
              "      const reader = new FileReader();\n",
              "      reader.onload = (e) => {\n",
              "        resolve(e.target.result);\n",
              "      };\n",
              "      reader.readAsArrayBuffer(file);\n",
              "    });\n",
              "    // Wait for the data to be ready.\n",
              "    let fileData = yield {\n",
              "      promise: fileDataPromise,\n",
              "      response: {\n",
              "        action: 'continue',\n",
              "      }\n",
              "    };\n",
              "\n",
              "    // Use a chunked sending to avoid message size limits. See b/62115660.\n",
              "    let position = 0;\n",
              "    do {\n",
              "      const length = Math.min(fileData.byteLength - position, MAX_PAYLOAD_SIZE);\n",
              "      const chunk = new Uint8Array(fileData, position, length);\n",
              "      position += length;\n",
              "\n",
              "      const base64 = btoa(String.fromCharCode.apply(null, chunk));\n",
              "      yield {\n",
              "        response: {\n",
              "          action: 'append',\n",
              "          file: file.name,\n",
              "          data: base64,\n",
              "        },\n",
              "      };\n",
              "\n",
              "      let percentDone = fileData.byteLength === 0 ?\n",
              "          100 :\n",
              "          Math.round((position / fileData.byteLength) * 100);\n",
              "      percent.textContent = `${percentDone}% done`;\n",
              "\n",
              "    } while (position < fileData.byteLength);\n",
              "  }\n",
              "\n",
              "  // All done.\n",
              "  yield {\n",
              "    response: {\n",
              "      action: 'complete',\n",
              "    }\n",
              "  };\n",
              "}\n",
              "\n",
              "scope.google = scope.google || {};\n",
              "scope.google.colab = scope.google.colab || {};\n",
              "scope.google.colab._files = {\n",
              "  _uploadFiles,\n",
              "  _uploadFilesContinue,\n",
              "};\n",
              "})(self);\n",
              "</script> "
            ]
          },
          "metadata": {}
        },
        {
          "output_type": "stream",
          "name": "stdout",
          "text": [
            "Saving banki_responses.json.bz2 to banki_responses.json.bz2\n"
          ]
        }
      ]
    },
    {
      "cell_type": "code",
      "source": [
        "import os\n",
        "\n",
        "# Переименовываем файл, если он с \"(1)\"\n",
        "if \"banki_responses.json (1).bz2\" in uploaded:\n",
        "    os.rename(\"banki_responses.json (1).bz2\", \"banki_responses.json.bz2\")\n",
        "    print(\"✅ Файл переименован в banki_responses.json.bz2\")\n",
        "else:\n",
        "    print(\"⚠️ Файл уже в правильном виде или название другое\")\n"
      ],
      "metadata": {
        "colab": {
          "base_uri": "https://localhost:8080/"
        },
        "id": "z0_Gwu0OKVSx",
        "outputId": "9efd1ac7-5d51-45e0-cbd6-5c1899acc8d3"
      },
      "execution_count": 2,
      "outputs": [
        {
          "output_type": "stream",
          "name": "stdout",
          "text": [
            "⚠️ Файл уже в правильном виде или название другое\n"
          ]
        }
      ]
    },
    {
      "cell_type": "code",
      "source": [
        "# 🔹 Просматриваем первые 3 строки из файла и смотрим структуру JSON-объектов\n",
        "import bz2\n",
        "import json\n",
        "\n",
        "with bz2.BZ2File('banki_responses.json.bz2', 'r') as file:\n",
        "    for i in range(3):\n",
        "        line = file.readline()\n",
        "        data = json.loads(line)\n",
        "        print(f\"\\n🔹 Отзыв {i+1}:\")\n",
        "        print(json.dumps(data, indent=2, ensure_ascii=False))\n"
      ],
      "metadata": {
        "colab": {
          "base_uri": "https://localhost:8080/"
        },
        "id": "rAYS6kjJKZ7d",
        "outputId": "60e87548-da97-4b4a-e23f-4b015fd882bf"
      },
      "execution_count": 3,
      "outputs": [
        {
          "output_type": "stream",
          "name": "stdout",
          "text": [
            "\n",
            "🔹 Отзыв 1:\n",
            "{\n",
            "  \"city\": \"г. Воронеж\",\n",
            "  \"rating_not_checked\": true,\n",
            "  \"title\": \"Ипотека на 5+\",\n",
            "  \"num_comments\": 0,\n",
            "  \"bank_license\": \"лицензия № 1623\",\n",
            "  \"author\": \"e.novikova\",\n",
            "  \"bank_name\": \"ВТБ 24\",\n",
            "  \"datetime\": \"2015-06-08 11:06:56\",\n",
            "  \"text\": \"Здравствуйте!  Хотелось бы выразить благодарность банку ВТБ24 г.Воронеж пл. Ленина и непосредственно специалисту по ипотечному кредитованию Мещеряковой Юлии Анатольевне. Это уже моя вторая ипотека в этом банке и у этого специалиста. Вопросов с подачей документов не было, быстрое принятие решения об одобрении всей необходимой суммы и никаких проблем с выдачей кредита. Удобно, что никуда не нужно ходить и со сторонними организациями не нужно договариваться. На оценку сотрудники банка приехали вовремя, страховку оформили перед выдачей кредита в отделении банка. Все быстро, четко, слаженно. На все мои вопросы о сравнении условий Юлия подробно отвечала, что сомнений никаких не возникло в каком именно банке брать (был выбор между сбербанком и втб24). Из дополнительных расходов при выдаче кредита - только страховка, что является сейчас обязательным условием при оформлении ипотеки. Также мне оформили карту \\\"Привилегия\\\" бесплатно. Очень было приятно. Всем своим знакомым рекомендую обращаться к Юлии. Некоторые уже взяли ипотеку и всегда только положительные отзывы. Спасибо за хорошее отношение к клиентам.\",\n",
            "  \"rating_grade\": 5\n",
            "}\n",
            "\n",
            "🔹 Отзыв 2:\n",
            "{\n",
            "  \"city\": \"г. Казань\",\n",
            "  \"rating_not_checked\": true,\n",
            "  \"title\": \"ЗВОНКИ СОСЕДЯМ\",\n",
            "  \"num_comments\": 0,\n",
            "  \"bank_license\": \"лицензия № 2289\",\n",
            "  \"author\": \"KZN\\\\Vorontsova_NA\",\n",
            "  \"bank_name\": \"Русский Стандарт\",\n",
            "  \"datetime\": \"2015-06-06 18:17:52\",\n",
            "  \"text\": \"Уважаемые представители департамента по работе с просроченной задолженностью банка \\\"Русский Стандарт\\\"!  Я являюсь клиентом вашего банка, имею потребительский кредит. Да, признаю, что  платежи вношу невовремя, но до сегодняшнего дня они внесены. Сейчас есть также просроченный платеж за май, период просрочки- 1 месяц. Причина- смена работы, все сведения о работе я обязательно в банк сообщу. Сегодня половину платежа я внесла, вторую внесу через 5 дней. Проблема в следующем:  Ваши сотрудники обзванивают моих соседей, кого именно не знаю, но  видела записку вчера,  воткнутую в дверь моей квартиры, с просьбой позвонить Андрею Николаевичу. Я ранее уже с ним беседовала, и объясняла ситуацию по оплате.  Зачем звонить соседям, когда можно связаться с самим клиентом. Сейчас трудная ситуация с моим телефоном, он в ремонте, и я могу разговаривать после 18.00 с домашнего. Я не думаю, что сотрудникам так трудно позвонить клиенту после 18.00. В моем договоре , в пункте\\\" Способ обмена между кредитором и заемщиком\\\" написаны следующие способы- телефонные переговоры, смс- уведомления, электронная почта, почта РФ, и личный контакт. Там нет ни слова о соседях.  Андрей Николаевич, мне пояснил, что они могут передавать информацию третьим лицам, но пункт \\\"Условие об уступке кредитором третьим лицам прав(требований) по договору- не содержит инфо о соседях. Значит третьи лица- это коллекторы или другие подобные учреждения. Но , господа, никак не соседи. Хотя А.Н. меня пытался убедить, что передача инфо соседям - это и есть право требования. Что за неграмотность.  Банк может обзванивать контактных лиц , работу, клиента, но никак не соседей.  Андрей Николаевич звонил мне с номера - 89377709813 Елена Петровна - 89655867945. Требую прекратить обзвон моих соседей! И связываться лично со мной, или оставлять инфо моей маме, звоня на домашний телефон.  Некоторые клиенты плюют на свой договор, им неважно, просрочен он или нет, по 3-4 месяца не платят, не выходят на связь, не реагируют на смс и т.д. И их особо никто не достает.  А есть клиенты. которые готовы платить, никуда не скрываются, и вы их готовы прям психологически задавить, потому что он выходит на связь, а значит за него можно потом бонус получить за сбор.За счет таких клиентов только ваш департамент, в принципе и живет. Я это понимаю, но во всем должны быть моральные рамки, и также законные. Поэтому, пожалуйста путь ваши А.Н. и Е.П, и все остальные не беспокоят моих соседей. а общаются со мной!  С уважением, Наталья Александровна!\",\n",
            "  \"rating_grade\": 2\n",
            "}\n",
            "\n",
            "🔹 Отзыв 3:\n",
            "{\n",
            "  \"city\": \"г. Санкт-Петербург\",\n",
            "  \"rating_not_checked\": true,\n",
            "  \"title\": \"Ложная информация!!!!\",\n",
            "  \"num_comments\": 0,\n",
            "  \"bank_license\": \"лицензия № 2307\",\n",
            "  \"author\": \"Evgenia15\",\n",
            "  \"bank_name\": \"Союз\",\n",
            "  \"datetime\": \"2015-06-07 19:08:33\",\n",
            "  \"text\": \"Здравствуйте. Столкнулась с такой ситуацией. в 2012 году взяла ипотеку  в Банке Союз (Санкт-Петербургский филиал). Платила ежемесячные платежи  с помощью интернет банка,электронным переводом. С сентября 2014 года возникли финансовые трудности (нахожусь в декретном отпуске,у мужа начались простои на работе).Платили не всю сумму.Накопилась  задолженность. В янвавре 2015 года мне начала звонить сотрудница банка Союз Екатерина Мельникова (далее Е.М).Я ей объяснила о своих финансовых проблемах,Екатерина  проинформировала меня полностью о моей задолжености на 21 января  и любезно предложила выход из данной ситуации,а именно, внести сумму 35 т.р ,а накопившеиеся штрафы она спишет и тогда мы выйдем из просрочки.Муж взял кредит на  эту сумму и я перевела деньги электронным переводом ,23 января мне  позвонила Екатерина и сказала что просрочки нет.Далее платили исправно. В конце марта мне стали поступать звонки с московского офиса банка Союз,о том что у меня просроченная задолженность. В начале апреля я  созвонилась  с Екатериной, и в ходе разговора выяснилось, что  штрафы что обещала списать Екатерина не списаны,из ее объяснений   я поняла что не получилось что то в программе.  Так же выяснилось что нужно было писать заявление на отмену штрафов, почему Екатерина не сказала об этом в январе месяце,не понятно,я предложила приехать  в банк и написать это заявление ,но Е.М. сказала что ничего не нужно,она все сделает ,договорились созвониться 15 мая,когда я внесу очередной ежемесячный платеж.  19 мая Екатерина позвонила и сказала что банк разрешил списать только маленькую часть штрафов, а остальное надо заплатить.На мои вопросы внятного ответа я не получила ,более того ,выяснилось  что все ее обещания были элементарно обманом,с ее слов я поняла так происходит своего рода стимуляция клиентов,по погашению задолжености , на мою просьбу предоставить  записи наших телефоных разговоров,мне было отказано  и предложено идти и жаловаться куда я хочу. После этого разговора поехали в отеление банка и взяли выписку по моему счету и отдельно нам распечатали  выписку о задолжености,заплатили эту сумму. 29 мая мы с мужем поехали в офис на Кронверской 13 лит.А банка Союз и попросили выйти пообщаться с Е.М.и ее начальством.К нам вышла Е.М.и мужчина ,мы так поняли это ее руководитель, он даже не представился,более того продемонтрировал свою не воспитаность и отсутсвие этики общения с клиентами (выйдя в холл, где мы их ожидали,спросил: \\\"Кто здесь Варламова?\\\"(моя девичья фамилия), хотя в холле находились только я и муж. Когда мы сели за стол переговоров, началась абсолютно другая история, оказывается нужно было писать заявление прежде чем вносить просроченную сумму , писать заявление об отмене штрафов, а так же это право банка отменять штрафы или нет.  Я согласна полностью с этим правовм банка,но почему нельзя было сказать об этом  в январе ,когда мы договорились что будем вносить сумму 35т.р.  Зачем нужно было брать на себя такую ответсвенность о списании штрафов и втечении трех месяцев не договаривать о просрочке.Умалчивать о заявлениях. Из-за не квалифицированности сотрудницы банка союз и несвоевременном получении информации мы понесли финансовые потери,сумма задолждености примерно выросла на 4 т.р.. Так же в ходе разговора поступали неоднозначные намеки, о нашем залоге и мы не в том положении, чтобы возмущаться и требовать каких либо объяснений,нужно было ехать в банк и разбираться.Я согласна это мое упущение  (живу загородом,ребенка просто не с кем было оставить) а так же большое упущение ,что я понадеялась на добросовестность сотрудницы Е.М.  В полседсвии ,беседа напоминала,присутсвие коллектроской службы, а не сотрудников банка, поэтому мы с мужем были вынуждены встать и уйти. Прошу разобраться с данной ситуацией и помочь исключить подобные случаи ,а так же оградить клиентов банка работой данной сотрудницы, так ее не компетентность наводит тень на работу всего банка и возможно наш случай не единственный.\",\n",
            "  \"rating_grade\": 2\n",
            "}\n"
          ]
        }
      ]
    },
    {
      "cell_type": "code",
      "source": [
        "# 🔹 Импортируем нужные библиотеки\n",
        "from collections import Counter\n",
        "\n",
        "# 🔹 Создаем счётчики для городов и банков\n",
        "city_counter = Counter()\n",
        "bank_counter = Counter()\n",
        "total_reviews = 0  # Общее число проверенных отзывов\n",
        "\n",
        "# 🔹 Читаем файл построчно и обрабатываем каждую запись\n",
        "with bz2.BZ2File('banki_responses.json.bz2', 'r') as file:\n",
        "    for line in file:\n",
        "        data = json.loads(line)\n",
        "\n",
        "        # Пропускаем непроверенные отзывы\n",
        "        if data.get(\"rating_not_checked\"):\n",
        "            continue\n",
        "\n",
        "        total_reviews += 1\n",
        "\n",
        "        # Получаем и нормализуем название города и банка\n",
        "        city = data.get(\"city\")\n",
        "        bank = data.get(\"bank_name\")\n",
        "\n",
        "        if isinstance(city, str):\n",
        "            city = city.strip()\n",
        "            if city:\n",
        "                city_counter[city] += 1\n",
        "\n",
        "        if isinstance(bank, str):\n",
        "            bank = bank.strip()\n",
        "            if bank:\n",
        "                bank_counter[bank] += 1\n",
        "\n",
        "# 🔹 Выводим статистику\n",
        "print(f\"✅ Всего отзывов (с проверенной оценкой): {total_reviews}\")\n",
        "\n",
        "print(\"\\n📍 Топ-10 городов по количеству отзывов:\")\n",
        "for city, count in city_counter.most_common(10):\n",
        "    print(f\"{city}: {count}\")\n",
        "\n",
        "print(\"\\n🏦 Топ-10 банков по количеству отзывов:\")\n",
        "for bank, count in bank_counter.most_common(10):\n",
        "    print(f\"{bank}: {count}\")\n"
      ],
      "metadata": {
        "colab": {
          "base_uri": "https://localhost:8080/"
        },
        "id": "b9Wy5LO6KoQW",
        "outputId": "214bd664-196f-4279-a1c1-885461dded1a"
      },
      "execution_count": 4,
      "outputs": [
        {
          "output_type": "stream",
          "name": "stdout",
          "text": [
            "✅ Всего отзывов (с проверенной оценкой): 153499\n",
            "\n",
            "📍 Топ-10 городов по количеству отзывов:\n",
            "г. Москва: 55356\n",
            "г. Санкт-Петербург: 14342\n",
            "г. Екатеринбург: 2337\n",
            "г. Новосибирск: 2300\n",
            "г. Нижний Новгород: 1976\n",
            "г. Ростов-на-Дону: 1891\n",
            "г. Самара: 1731\n",
            "г. Челябинск: 1507\n",
            "г. Казань: 1440\n",
            "г. Краснодар: 1262\n",
            "\n",
            "🏦 Топ-10 банков по количеству отзывов:\n",
            "Сбербанк России: 26327\n",
            "Альфа-Банк: 10224\n",
            "ВТБ 24: 8185\n",
            "Русский Стандарт: 7943\n",
            "Хоум Кредит Банк: 7549\n",
            "Тинькофф Банк: 5387\n",
            "Национальный Банк «Траст»: 4607\n",
            "Ренессанс Кредит: 3849\n",
            "Связной Банк: 3775\n",
            "ОТП Банк: 3237\n"
          ]
        }
      ]
    },
    {
      "cell_type": "markdown",
      "source": [
        "## Задача 1.2 Строим гистограмы длин слов в символах и в словах"
      ],
      "metadata": {
        "id": "rHxxpG_oKwHo"
      }
    },
    {
      "cell_type": "markdown",
      "source": [
        "соберём только тексты проверенных отзывов,\n",
        "\n",
        "посчитаем длину текста в символах и в словах,\n",
        "\n",
        "визуализируем распределения в виде гистограмм."
      ],
      "metadata": {
        "id": "m-op1lHHLsk1"
      }
    },
    {
      "cell_type": "code",
      "source": [
        "# 🔹 Считываем тексты всех проверенных отзывов\n",
        "texts = []\n",
        "\n",
        "with bz2.BZ2File('banki_responses.json.bz2', 'r') as file:\n",
        "    for line in file:\n",
        "        data = json.loads(line)\n",
        "        if data.get(\"rating_not_checked\"):\n",
        "            continue\n",
        "        text = data.get(\"text\", \"\")\n",
        "        if isinstance(text, str) and text.strip():\n",
        "            texts.append(text.strip())\n",
        "\n",
        "print(f\"📄 Отзывов с текстом: {len(texts)}\")\n"
      ],
      "metadata": {
        "colab": {
          "base_uri": "https://localhost:8080/"
        },
        "id": "X2Tyast4Lwen",
        "outputId": "2c420094-bcdd-4ef9-a0bb-98b9eeda6634"
      },
      "execution_count": 5,
      "outputs": [
        {
          "output_type": "stream",
          "name": "stdout",
          "text": [
            "📄 Отзывов с текстом: 153499\n"
          ]
        }
      ]
    },
    {
      "cell_type": "code",
      "source": [
        "# 🔹 Импортируем библиотеки для анализа и визуализации\n",
        "import matplotlib.pyplot as plt\n",
        "import re\n",
        "\n",
        "# 🔹 Считаем длины отзывов в символах и в словах\n",
        "char_lengths = [len(text) for text in texts]\n",
        "\n",
        "# Используем регулярное выражение для выделения слов\n",
        "word_lengths = [len(re.findall(r'\\w+', text)) for text in texts]\n",
        "\n",
        "# 🔹 Строим гистограммы\n",
        "plt.figure(figsize=(14, 5))\n",
        "\n",
        "# Гистограмма по символам\n",
        "plt.subplot(1, 2, 1)\n",
        "plt.hist(char_lengths, bins=60, color='skyblue', edgecolor='black')\n",
        "plt.title(\"Длина отзывов в символах\")\n",
        "plt.xlabel(\"Количество символов\")\n",
        "plt.ylabel(\"Число отзывов\")\n",
        "plt.xlim(0, 5000)  # ограничим по оси X для наглядности\n",
        "\n",
        "# Гистограмма по словам\n",
        "plt.subplot(1, 2, 2)\n",
        "plt.hist(word_lengths, bins=60, color='salmon', edgecolor='black')\n",
        "plt.title(\"Длина отзывов в словах\")\n",
        "plt.xlabel(\"Количество слов\")\n",
        "plt.ylabel(\"Число отзывов\")\n",
        "plt.xlim(0, 800)\n",
        "\n",
        "plt.tight_layout()\n",
        "plt.show()\n"
      ],
      "metadata": {
        "colab": {
          "base_uri": "https://localhost:8080/",
          "height": 507
        },
        "id": "gDGURdGaM7Jy",
        "outputId": "75b7489e-4b6d-4c26-f004-7c4c0931f6c4"
      },
      "execution_count": 6,
      "outputs": [
        {
          "output_type": "display_data",
          "data": {
            "text/plain": [
              "<Figure size 1400x500 with 2 Axes>"
            ],
            "image/png": "[encoded data removed]"
          },
          "metadata": {}
        }
      ]
    },
    {
      "cell_type": "markdown",
      "source": [
        "## Вывод по пункту 1.2: гистограммы длины отзывов\n",
        "\n",
        "Большинство отзывов имеют длину:\n",
        "\n",
        "около 500–1500 символов,\n",
        "\n",
        "и 100–300 слов.\n",
        "\n",
        "Распределения асимметричны: длинные отзывы встречаются реже, но их много — \"длинный хвост\".\n",
        "\n",
        "Это характерно для пользовательских текстов: большинство отзывов умеренной длины, но часть клиентов пишет очень развёрнуто."
      ],
      "metadata": {
        "id": "KLkjXjl_NSRc"
      }
    },
    {
      "cell_type": "markdown",
      "source": [
        "## Задача 1.3 Частотный анализ слов"
      ],
      "metadata": {
        "id": "P0dvB6ArNf_X"
      }
    },
    {
      "cell_type": "markdown",
      "source": [
        "разбиваем тексты на слова (токенизация),\n",
        "\n",
        "считаем частоты,\n",
        "\n",
        "лемматизируем с помощью pymorphy2,\n",
        "\n",
        "фильтруем существительные."
      ],
      "metadata": {
        "id": "W-gbKwmbNqGn"
      }
    },
    {
      "cell_type": "code",
      "source": [
        "# Хак для pymorphy2 под Python 3.11+\n",
        "import inspect\n",
        "\n",
        "if not hasattr(inspect, 'getargspec'):\n",
        "    def getargspec(func):\n",
        "        from inspect import signature\n",
        "        sig = signature(func)\n",
        "        args = []\n",
        "        varargs = None\n",
        "        varkw = None\n",
        "        defaults = []\n",
        "\n",
        "        for param in sig.parameters.values():\n",
        "            if param.kind == param.VAR_POSITIONAL:\n",
        "                varargs = param.name\n",
        "            elif param.kind == param.VAR_KEYWORD:\n",
        "                varkw = param.name\n",
        "            else:\n",
        "                args.append(param.name)\n",
        "                if param.default is not param.empty:\n",
        "                    defaults.append(param.default)\n",
        "        return args, varargs, varkw, tuple(defaults) if defaults else None\n",
        "\n",
        "    inspect.getargspec = getargspec\n"
      ],
      "metadata": {
        "id": "LHzeZTI7l61_"
      },
      "execution_count": 8,
      "outputs": []
    },
    {
      "cell_type": "code",
      "source": [
        "# 🔹 Импортируем библиотеки\n",
        "import re\n",
        "from collections import Counter\n",
        "import pymorphy2\n",
        "\n",
        "# 🔹 Инициализируем морфологический разборщик\n",
        "morph = pymorphy2.MorphAnalyzer()\n",
        "\n",
        "# 🔹 Список стоп-слов (базовый, можно заменить на NLTK при необходимости)\n",
        "stopwords_ru = {\n",
        "    \"и\", \"в\", \"во\", \"не\", \"что\", \"он\", \"на\", \"я\", \"с\", \"со\", \"как\", \"а\", \"то\", \"все\",\n",
        "    \"она\", \"так\", \"его\", \"но\", \"да\", \"ты\", \"к\", \"у\", \"же\", \"вы\", \"за\", \"бы\", \"по\",\n",
        "    \"только\", \"ее\", \"мне\", \"было\", \"вот\", \"от\", \"меня\", \"еще\", \"нет\", \"о\", \"из\",\n",
        "    \"ему\", \"теперь\", \"когда\", \"даже\", \"ну\", \"вдруг\", \"ли\", \"если\", \"уже\", \"или\",\n",
        "    \"ни\", \"быть\", \"был\", \"него\", \"до\", \"вас\", \"нибудь\", \"уж\", \"вам\", \"ведь\", \"там\",\n",
        "    \"потом\", \"себя\", \"ничего\", \"ей\", \"может\", \"они\", \"тут\", \"где\", \"есть\", \"надо\",\n",
        "    \"ней\", \"для\", \"мы\", \"тебя\", \"их\", \"чем\", \"была\", \"сам\", \"чтоб\", \"без\", \"будто\",\n",
        "    \"чего\", \"раз\", \"тоже\", \"себе\", \"под\", \"ж\", \"тогда\", \"кто\", \"этот\", \"того\",\n",
        "    \"потому\", \"этого\", \"какой\", \"совсем\", \"ним\", \"здесь\", \"этом\", \"один\", \"почти\",\n",
        "    \"мой\", \"тем\", \"чтобы\", \"нее\", \"сейчас\", \"были\", \"куда\", \"зачем\", \"всех\",\n",
        "    \"никогда\", \"можно\", \"при\", \"наконец\", \"два\", \"об\", \"другой\", \"хоть\", \"после\",\n",
        "    \"над\", \"больше\", \"тот\", \"через\", \"эти\", \"нас\", \"про\", \"всего\", \"них\", \"какая\",\n",
        "    \"много\", \"разве\", \"три\", \"эту\", \"моя\", \"впрочем\", \"хорошо\", \"свою\", \"этой\",\n",
        "    \"перед\", \"иногда\", \"лучше\", \"чуть\", \"том\", \"нельзя\", \"такой\", \"им\", \"более\",\n",
        "    \"всегда\", \"конечно\", \"всю\", \"между\"\n",
        "}\n",
        "\n",
        "# 🔹 Счётчики\n",
        "word_counter = Counter()\n",
        "word_no_stop = Counter()\n",
        "lemma_counter = Counter()\n",
        "noun_counter = Counter()\n",
        "\n",
        "# 🔹 Обход всех отзывов\n",
        "for text in texts:\n",
        "    # Токенизация: извлекаем только слова (включая кириллицу и ё)\n",
        "    tokens = re.findall(r'[а-яА-ЯёЁ]+', text.lower())\n",
        "\n",
        "    for token in tokens:\n",
        "        word_counter[token] += 1  # все слова\n",
        "\n",
        "        if token not in stopwords_ru:\n",
        "            word_no_stop[token] += 1\n",
        "\n",
        "            # Получаем лемму и часть речи\n",
        "            parsed = morph.parse(token)[0]\n",
        "            lemma = parsed.normal_form\n",
        "            lemma_counter[lemma] += 1\n",
        "\n",
        "            # Сохраняем только существительные\n",
        "            if parsed.tag.POS == 'NOUN':\n",
        "                noun_counter[lemma] += 1\n",
        "\n",
        "# 🔹 Выводим топ-10 по каждому критерию\n",
        "print(\"\\n📌 Топ-10 самых частых слов (все):\")\n",
        "print(word_counter.most_common(10))\n",
        "\n",
        "print(\"\\n📌 Топ-10 слов без стоп-слов:\")\n",
        "print(word_no_stop.most_common(10))\n",
        "\n",
        "print(\"\\n📌 Топ-10 лемм (без стоп-слов):\")\n",
        "print(lemma_counter.most_common(10))\n",
        "\n",
        "print(\"\\n📌 Топ-10 существительных:\")\n",
        "print(noun_counter.most_common(10))\n"
      ],
      "metadata": {
        "colab": {
          "base_uri": "https://localhost:8080/"
        },
        "id": "EkprumpTPO9i",
        "outputId": "6f170a47-7cbb-4d32-aff6-115a29bcec28"
      },
      "execution_count": 9,
      "outputs": [
        {
          "output_type": "stream",
          "name": "stdout",
          "text": [
            "\n",
            "📌 Топ-10 самых частых слов (все):\n",
            "[('в', 1330307), ('и', 1058997), ('не', 852432), ('на', 707803), ('что', 640057), ('я', 577500), ('с', 463027), ('по', 372759), ('мне', 320958), ('банка', 275906)]\n",
            "\n",
            "📌 Топ-10 слов без стоп-слов:\n",
            "[('банка', 275906), ('банк', 215425), ('это', 183365), ('деньги', 131201), ('карту', 105829), ('карты', 101821), ('кредит', 81135), ('день', 76552), ('т', 75759), ('банке', 72169)]\n",
            "\n",
            "📌 Топ-10 лемм (без стоп-слов):\n",
            "[('банк', 668547), ('карта', 334999), ('это', 200057), ('деньга', 179819), ('день', 173688), ('мой', 168999), ('кредит', 156176), ('который', 149017), ('отделение', 144050), ('счёт', 142646)]\n",
            "\n",
            "📌 Топ-10 существительных:\n",
            "[('банк', 668547), ('карта', 334999), ('деньга', 179819), ('день', 173688), ('кредит', 156176), ('отделение', 144050), ('счёт', 142646), ('клиент', 136892), ('сотрудник', 134168), ('сумма', 111232)]\n"
          ]
        }
      ]
    },
    {
      "cell_type": "markdown",
      "source": [
        "Частые слова (все): в топе — союзы, предлоги и местоимения. Самое частотное содержательное слово — «банка».\n",
        "\n",
        "Без стоп-слов: лидируют «банк», «деньги», «карта», «кредит» — логично для отзывов о банковских услугах.\n",
        "\n",
        "Леммы: учли все формы — так «банка», «банке», «банку» → «банк». Добавились «отделение», «счёт», «мой».\n",
        "\n",
        "Существительные: отражают тематику: услуги («банк», «карта», «счёт»), участники процесса («клиент», «сотрудник»), объекты взаимодействия («сумма», «кредит»)."
      ],
      "metadata": {
        "id": "OjiXPiYJdmde"
      }
    },
    {
      "cell_type": "markdown",
      "source": [
        "## Задача 1.4 Строим кривые Ципфа и Хипса"
      ],
      "metadata": {
        "id": "T13HUvkPXUeR"
      }
    },
    {
      "cell_type": "code",
      "source": [
        "import matplotlib.pyplot as plt\n",
        "import numpy as np\n",
        "\n",
        "# 🔹 Кривая Ципфа: ранги и частоты\n",
        "freqs = sorted(word_counter.values(), reverse=True)\n",
        "ranks = range(1, len(freqs) + 1)\n",
        "\n",
        "plt.figure(figsize=(6, 4))\n",
        "plt.loglog(ranks, freqs)\n",
        "plt.title(\"Кривая Ципфа\")\n",
        "plt.xlabel(\"Ранг слова\")\n",
        "plt.ylabel(\"Частота\")\n",
        "plt.grid(True)\n",
        "plt.show()\n",
        "\n",
        "# 🔹 Кривая Хипса: рост словаря с количеством слов\n",
        "unique_words = set()\n",
        "tokens_seen = 0\n",
        "heaps_x = []\n",
        "heaps_y = []\n",
        "\n",
        "for text in texts:\n",
        "    tokens = re.findall(r'[а-яА-ЯёЁ]+', text.lower())\n",
        "    for token in tokens:\n",
        "        tokens_seen += 1\n",
        "        unique_words.add(token)\n",
        "        if tokens_seen % 1000 == 0:  # каждые 1000 слов фиксируем точку\n",
        "            heaps_x.append(tokens_seen)\n",
        "            heaps_y.append(len(unique_words))\n",
        "\n",
        "plt.figure(figsize=(6, 4))\n",
        "plt.plot(heaps_x, heaps_y)\n",
        "plt.title(\"Кривая Хипса\")\n",
        "plt.xlabel(\"Общее количество слов\")\n",
        "plt.ylabel(\"Уникальных слов\")\n",
        "plt.grid(True)\n",
        "plt.show()\n"
      ],
      "metadata": {
        "colab": {
          "base_uri": "https://localhost:8080/",
          "height": 808
        },
        "id": "MwZO8HJ1dq4D",
        "outputId": "f3bff174-cbe0-4e65-e34a-120553d6bdc0"
      },
      "execution_count": 10,
      "outputs": [
        {
          "output_type": "display_data",
          "data": {
            "text/plain": [
              "<Figure size 600x400 with 1 Axes>"
            ],
            "image/png": "[encoded data removed]"
          },
          "metadata": {}
        },
        {
          "output_type": "display_data",
          "data": {
            "text/plain": [
              "<Figure size 600x400 with 1 Axes>"
            ],
            "image/png": "[encoded data removed]"
          },
          "metadata": {}
        }
      ]
    },
    {
      "cell_type": "markdown",
      "source": [
        "##Вывод по пункту 1.4: кривые Ципфа и Хипса\n",
        "\n",
        "🔹 Кривая Ципфа:\n",
        "\n",
        "В логарифмическом масштабе — почти прямая линия, как и должно быть.\n",
        "\n",
        "Это подтверждает: небольшое количество слов встречается очень часто, а большинство слов — очень редко.\n",
        "\n",
        "Самое частое слово (например, «в») встречается в миллионы раз чаще, чем слова из «хвоста».\n",
        "\n",
        "🔹 Кривая Хипса:\n",
        "\n",
        "Видна типичная логарифмическая зависимость: словарь растёт с увеличением общего числа слов, но всё медленнее.\n",
        "\n",
        "Кривая не «выровнялась» — значит, даже при ~35 млн слов встречаются новые лексемы → корпус разнообразный."
      ],
      "metadata": {
        "id": "yyCu1fpgeD3m"
      }
    },
    {
      "cell_type": "markdown",
      "source": [
        "## Задача 1.5 Ответы на вопросы"
      ],
      "metadata": {
        "id": "HHrUCd9_eOhm"
      }
    },
    {
      "cell_type": "code",
      "source": [
        "# 🔹 Сравнение частоты слов \"сотрудник\" и \"клиент\"\n",
        "client_count = noun_counter.get(\"клиент\", 0)\n",
        "staff_count = noun_counter.get(\"сотрудник\", 0)\n",
        "\n",
        "print(f\"📌 'клиент' встречается {client_count} раз\")\n",
        "print(f\"📌 'сотрудник' встречается {staff_count} раз\")\n",
        "\n",
        "# 🔹 Частота слов \"мошенничество\" и \"доверие\" (лемматизированные формы)\n",
        "fraud_count = lemma_counter.get(\"мошенничество\", 0)\n",
        "trust_count = lemma_counter.get(\"доверие\", 0)\n",
        "\n",
        "print(f\"📌 'мошенничество' встречается {fraud_count} раз\")\n",
        "print(f\"📌 'доверие' встречается {trust_count} раз\")\n"
      ],
      "metadata": {
        "colab": {
          "base_uri": "https://localhost:8080/"
        },
        "id": "168HUuTReWcr",
        "outputId": "22e32a19-b712-4cd6-d353-a087906081c1"
      },
      "execution_count": 11,
      "outputs": [
        {
          "output_type": "stream",
          "name": "stdout",
          "text": [
            "📌 'клиент' встречается 136892 раз\n",
            "📌 'сотрудник' встречается 134168 раз\n",
            "📌 'мошенничество' встречается 3244 раз\n",
            "📌 'доверие' встречается 2108 раз\n"
          ]
        }
      ]
    },
    {
      "cell_type": "markdown",
      "source": [
        "## Задача 1.6. TF-IDF ключевых слов и биграмм для отзывов с оценкой 1 и 5"
      ],
      "metadata": {
        "id": "OUBybftLenr4"
      }
    },
    {
      "cell_type": "code",
      "source": [
        "# 🔹 Импорт библиотек\n",
        "from sklearn.feature_extraction.text import TfidfVectorizer\n",
        "import bz2\n",
        "import json\n",
        "\n",
        "# 🔹 Собираем тексты по рейтингу 1 и 5\n",
        "positive_texts = []\n",
        "negative_texts = []\n",
        "\n",
        "with bz2.BZ2File('banki_responses.json.bz2', 'r') as file:\n",
        "    for line in file:\n",
        "        data = json.loads(line)\n",
        "        if data.get(\"rating_not_checked\"):\n",
        "            continue\n",
        "        rating = data.get(\"rating_grade\")\n",
        "        text = data.get(\"text\", \"\")\n",
        "        if isinstance(text, str) and text.strip():\n",
        "            if rating == 5:\n",
        "                positive_texts.append(text.strip())\n",
        "            elif rating == 1:\n",
        "                negative_texts.append(text.strip())\n",
        "\n",
        "print(f\"📄 Положительных отзывов: {len(positive_texts)}\")\n",
        "print(f\"📄 Отрицательных отзывов: {len(negative_texts)}\")\n"
      ],
      "metadata": {
        "colab": {
          "base_uri": "https://localhost:8080/"
        },
        "id": "3lJazTFzewFR",
        "outputId": "6a789a7b-24d2-45ab-9962-ed5a56e27d00"
      },
      "execution_count": 12,
      "outputs": [
        {
          "output_type": "stream",
          "name": "stdout",
          "text": [
            "📄 Положительных отзывов: 14713\n",
            "📄 Отрицательных отзывов: 47387\n"
          ]
        }
      ]
    },
    {
      "cell_type": "markdown",
      "source": [
        "Построим топ-10:\n",
        "\n",
        "униграмм с наибольшим tf-idf (ключевые слова),\n",
        "\n",
        "биграмм (2-грамм) — также с высоким весом."
      ],
      "metadata": {
        "id": "9WXhbIJgf4p1"
      }
    },
    {
      "cell_type": "code",
      "source": [
        "# 🔹 Функция для вывода топ-N tf-idf терминов\n",
        "def show_top_tfidf(tfidf_matrix, vectorizer, top_n=10):\n",
        "    feature_array = vectorizer.get_feature_names_out()\n",
        "    tfidf_scores = tfidf_matrix.mean(axis=0).A1  # усреднение по документам\n",
        "    top_indices = tfidf_scores.argsort()[::-1][:top_n]\n",
        "    return [(feature_array[i], round(tfidf_scores[i], 5)) for i in top_indices]\n",
        "\n",
        "# 🔹 Униграммы — положительные отзывы\n",
        "vectorizer_uni_pos = TfidfVectorizer(max_features=10000)\n",
        "tfidf_uni_pos = vectorizer_uni_pos.fit_transform(positive_texts)\n",
        "top_uni_pos = show_top_tfidf(tfidf_uni_pos, vectorizer_uni_pos)\n",
        "\n",
        "# 🔹 Униграммы — отрицательные отзывы\n",
        "vectorizer_uni_neg = TfidfVectorizer(max_features=10000)\n",
        "tfidf_uni_neg = vectorizer_uni_neg.fit_transform(negative_texts)\n",
        "top_uni_neg = show_top_tfidf(tfidf_uni_neg, vectorizer_uni_neg)\n",
        "\n",
        "# 🔹 Биграммы — положительные отзывы\n",
        "vectorizer_bi_pos = TfidfVectorizer(ngram_range=(2,2), max_features=10000)\n",
        "tfidf_bi_pos = vectorizer_bi_pos.fit_transform(positive_texts)\n",
        "top_bi_pos = show_top_tfidf(tfidf_bi_pos, vectorizer_bi_pos)\n",
        "\n",
        "# 🔹 Биграммы — отрицательные отзывы\n",
        "vectorizer_bi_neg = TfidfVectorizer(ngram_range=(2,2), max_features=10000)\n",
        "tfidf_bi_neg = vectorizer_bi_neg.fit_transform(negative_texts)\n",
        "top_bi_neg = show_top_tfidf(tfidf_bi_neg, vectorizer_bi_neg)\n",
        "\n",
        "# 🔹 Вывод\n",
        "print(\"\\n✅ Топ-10 слов (TF-IDF) в положительных отзывах:\")\n",
        "print(top_uni_pos)\n",
        "\n",
        "print(\"\\n❌ Топ-10 слов (TF-IDF) в отрицательных отзывах:\")\n",
        "print(top_uni_neg)\n",
        "\n",
        "print(\"\\n✅ Топ-10 биграмм в положительных отзывах:\")\n",
        "print(top_bi_pos)\n",
        "\n",
        "print(\"\\n❌ Топ-10 биграмм в отрицательных отзывах:\")\n",
        "print(top_bi_neg)\n"
      ],
      "metadata": {
        "colab": {
          "base_uri": "https://localhost:8080/"
        },
        "id": "1lFTqri2f82n",
        "outputId": "3168b7cd-25d5-441a-e31e-a8051d9122bf"
      },
      "execution_count": 13,
      "outputs": [
        {
          "output_type": "stream",
          "name": "stdout",
          "text": [
            "\n",
            "✅ Топ-10 слов (TF-IDF) в положительных отзывах:\n",
            "[('не', 0.06979), ('на', 0.06841), ('что', 0.05494), ('по', 0.04163), ('все', 0.03566), ('банка', 0.03533), ('мне', 0.03438), ('за', 0.03305), ('банк', 0.03071), ('как', 0.03066)]\n",
            "\n",
            "❌ Топ-10 слов (TF-IDF) в отрицательных отзывах:\n",
            "[('не', 0.09367), ('на', 0.07716), ('что', 0.07422), ('мне', 0.04684), ('по', 0.04488), ('банка', 0.03805), ('банк', 0.03156), ('то', 0.02895), ('деньги', 0.02877), ('как', 0.02867)]\n",
            "\n",
            "✅ Топ-10 биграмм в положительных отзывах:\n",
            "[('не было', 0.0127), ('то что', 0.01118), ('так как', 0.01027), ('для меня', 0.00931), ('по телефону', 0.00897), ('интернет банк', 0.00831), ('на все', 0.00818), ('так что', 0.00794), ('на сайте', 0.0079), ('том что', 0.0077)]\n",
            "\n",
            "❌ Топ-10 биграмм в отрицательных отзывах:\n",
            "[('сказали что', 0.01223), ('том что', 0.01211), ('так как', 0.01146), ('по телефону', 0.01142), ('не было', 0.01111), ('на сайте', 0.01094), ('ничего не', 0.01026), ('то что', 0.00896), ('что это', 0.00894), ('сказала что', 0.00889)]\n"
          ]
        }
      ]
    },
    {
      "cell_type": "markdown",
      "source": [
        "# Часть 2. Тематическое моделирование"
      ],
      "metadata": {
        "id": "kLnqtcLce9qM"
      }
    },
    {
      "cell_type": "markdown",
      "source": [
        "## Задача 2.1\n",
        "\n",
        "обучить несколько моделей LDA (Latent Dirichlet Allocation) с разным количеством тем (например, 5, 10, 15),\n",
        "\n",
        "показать топ-10 слов для каждой темы,\n",
        "\n",
        "выбрать хотя бы 2–3 понятные, интерпретируемые темы."
      ],
      "metadata": {
        "id": "7_CF-g4fgu8U"
      }
    },
    {
      "cell_type": "code",
      "source": [
        "# 🔹 Установка gensim (если ещё не установлен)\n",
        "!pip install -q gensim\n",
        "\n",
        "# 🔹 Импорт библиотек\n",
        "import gensim\n",
        "from gensim import corpora\n",
        "from gensim.models import LdaModel\n",
        "import re\n",
        "\n",
        "# 🔹 Отбираем первые 10 000 отзывов для быстрого моделирования\n",
        "texts_sampled = texts[:10000]\n",
        "\n",
        "# 🔹 Предобработка: токенизация и фильтрация\n",
        "texts_for_lda = []\n",
        "for text in texts_sampled:\n",
        "    tokens = re.findall(r'[а-яА-ЯёЁ]{3,}', text.lower())  # только слова длиной от 3 букв\n",
        "    filtered = [token for token in tokens if token not in stopwords_ru]\n",
        "    texts_for_lda.append(filtered)\n",
        "\n",
        "# 🔹 Создание словаря и корпуса для LDA\n",
        "dictionary = corpora.Dictionary(texts_for_lda)\n",
        "corpus = [dictionary.doc2bow(text) for text in texts_for_lda]\n",
        "\n",
        "# 🔹 Функция для печати тем\n",
        "def print_lda_topics(model, num_words=10):\n",
        "    for i, topic in model.show_topics(num_topics=-1, num_words=num_words, formatted=False):\n",
        "        words = [word for word, _ in topic]\n",
        "        print(f\"🔹 Тема {i+1}: {' | '.join(words)}\")\n",
        "\n",
        "# 🔹 Обучение LDA моделей с разным числом тем\n",
        "lda_models = {}\n",
        "for num_topics in [5, 10, 15]:\n",
        "    print(f\"\\n📘 Модель LDA с {num_topics} темами:\")\n",
        "    lda = LdaModel(corpus=corpus, id2word=dictionary, num_topics=num_topics,\n",
        "                   random_state=42, passes=10)\n",
        "    lda_models[num_topics] = lda\n",
        "    print_lda_topics(lda)\n"
      ],
      "metadata": {
        "colab": {
          "base_uri": "https://localhost:8080/"
        },
        "id": "pKdTZyDmARCM",
        "outputId": "6f60c6ed-88bf-49e3-d5b5-36f31f08f09c"
      },
      "execution_count": 16,
      "outputs": [
        {
          "output_type": "stream",
          "name": "stdout",
          "text": [
            "\n",
            "📘 Модель LDA с 5 темами:\n",
            "🔹 Тема 1: деньги | карту | это | банка | карты | банк | отделение | заявление | сказали | рублей\n",
            "🔹 Тема 2: банка | банк | кредит | номер | звонки | это | сотрудники | день | прошу | задолженности\n",
            "🔹 Тема 3: банка | банк | карты | средств | средства | деньги | заявление | счет | ответ | дней\n",
            "🔹 Тема 4: банк | банка | это | очень | вклад | банке | время | интернет | деньги | клиентов\n",
            "🔹 Тема 5: договора | банк | кредита | договор | банка | кредит | вклада | страхования | сумму | условия\n",
            "\n",
            "📘 Модель LDA с 10 темами:\n",
            "🔹 Тема 1: карту | карты | это | деньги | банка | карта | банк | отделение | смс | почему\n",
            "🔹 Тема 2: банка | банк | это | номер | звонки | кредит | сотрудники | день | прошу | телефон\n",
            "🔹 Тема 3: банка | деньги | банк | дней | счет | заявление | карты | средств | смс | средства\n",
            "🔹 Тема 4: банк | банка | это | очень | банке | интернет | время | деньги | клиентов | спасибо\n",
            "🔹 Тема 5: вклад | вклада | банка | вкладу | вкладов | процентов | проценты | условия | банк | договора\n",
            "🔹 Тема 6: банк | договора | средств | ооо | договор | банком | денежных | также | согласно | банка\n",
            "🔹 Тема 7: банка | сбербанка | сбербанк | россии | заявление | документы | также | банк | документов | отделение\n",
            "🔹 Тема 8: расположенный | гибдд | уэк | марьино | кбк | образец | мытищи | лит | уфмс | жку\n",
            "🔹 Тема 9: поступают | поэтому | персональных | имею | вернуть | удалить | отношения | однако | требую | обработку\n",
            "🔹 Тема 10: кредит | кредита | банка | сумму | договор | руб | банк | договора | страхования | сумма\n",
            "\n",
            "📘 Модель LDA с 15 темами:\n",
            "🔹 Тема 1: екатерина | брат | скб | опыта | ведущий | лишнего | вал | екатерины | электрон | понадобился\n",
            "🔹 Тема 2: банка | банк | номер | звонки | это | кредит | сотрудники | день | телефон | прошу\n",
            "🔹 Тема 3: банка | года | банк | дней | заявление | марта | кредитной | задолженности | ответ | задолженность\n",
            "🔹 Тема 4: открытие | ханты | сокол | аэропорт | подождал | фмс | предприниматель | открывают | мансийский | создание\n",
            "🔹 Тема 5: птс | анна | тексте | банкноты | завел | заказаны | серии | передадут | удивила | авторизацию\n",
            "🔹 Тема 6: договора | договор | банк | ооо | закона | прав | согласно | соответствии | банком | является\n",
            "🔹 Тема 7: средств | банка | сбербанка | банк | заявление | средства | денежных | сбербанк | карты | денежные\n",
            "🔹 Тема 8: доверенность | доверенности | яндекс | дарья | часу | доверенностью | зеленый | отправляем | наладить | мед\n",
            "🔹 Тема 9: персональных | данных | обработку | согласия | поступают | давала | удалить | требую | своих | звонки\n",
            "🔹 Тема 10: кредит | кредита | банка | сумму | договор | банк | руб | договора | это | страхования\n",
            "🔹 Тема 11: вклад | вклада | вкладу | вкладов | договора | процентов | вклады | проценты | ставки | условия\n",
            "🔹 Тема 12: деньги | карту | это | смс | день | отделение | сказали | дней | заявление | счет\n",
            "🔹 Тема 13: банка | банк | это | карты | карту | банке | очень | деньги | время | интернет\n",
            "🔹 Тема 14: подарок | подарки | югра | желаний | исполнение | налог | высокой | подарков | сочи | победы\n",
            "🔹 Тема 15: сестры | уэк | сталкивалась | информационной | продали | возобновились | обстановка | программисты | закрытый | знакома\n"
          ]
        }
      ]
    },
    {
      "cell_type": "markdown",
      "source": [
        "📘 Модель на 10 тем — наиболее сбалансирована по интерпретируемости и масштабности.\n",
        "\n",
        "Вот 3 интерпретируемые темы:\n",
        "\n",
        "**🔹 Тема 1 — Карты и отделения:**\n",
        "\n",
        "карту | карты | это | деньги | банка | карта | банк | отделение | смс | почему\n",
        "\n",
        "📌 Смысл: проблемы с банковскими картами, доступом к деньгам, работой отделений и оповещениями.\n",
        "\n",
        "**🔹 Тема 5 — Вклады и проценты:**\n",
        "\n",
        "вклад | вклада | банка | вкладу | вкладов | процентов | проценты | условия | банк | договора\n",
        "\n",
        "📌 Смысл: отзывы о размещении вкладов, условиях процентных ставок и договорах.\n",
        "\n",
        "**🔹 Тема 7 — Сбербанк и документы:**\n",
        "\n",
        "банка | сбербанка | сбербанк | россии | заявление | документы | также | банк | документов | отделение\n",
        "\n",
        "📌 Смысл: взаимодействие с Сбербанком, особенно в части оформления заявлений, работы с документами и отделениями.\n",
        "\n",
        "**💡 Вывод:**\n",
        "\n",
        "Темы хорошо дифференцируются по предмету обращения (карты, вклады, Сбербанк).\n",
        "\n",
        "Есть темы «шума» (например, тема 8 в модели на 10 тем), которые можно отбросить.\n",
        "\n",
        "Модель на 10 тем — оптимальна: баланс интерпретируемости и детализации."
      ],
      "metadata": {
        "id": "lzG-2atLBqk_"
      }
    },
    {
      "cell_type": "markdown",
      "source": [
        "## Задача 2.2 Анализ тем с упоминанием банков"
      ],
      "metadata": {
        "id": "kHShMRM9CCfE"
      }
    },
    {
      "cell_type": "markdown",
      "source": [
        "Проходим по всем темам модели lda_models[10] (на 10 тем), ищем в ключевых словах названия банков:\n",
        "\n",
        "сбербанк, втб, альфа, тинькофф, газпром, росбанк, совкомбанк, открытие, псб, почтабанк, и др.\n",
        "\n",
        "**🔹 Тема 7 (модель на 10 тем):**\n",
        "\n",
        "банка | сбербанка | сбербанк | россии | заявление | документы | также | банк | документов | отделение\n",
        "\n",
        "📌 Интерпретация:\n",
        "\n",
        "Тематика, связанная с работой Сбербанка и документооборотом.\n",
        "\n",
        "Часто встречаются жалобы или обсуждения:\n",
        "\n",
        "— на оформление заявлений,\n",
        "— работу отделений,\n",
        "— юридические нюансы.\n",
        "\n",
        "**🔹 Тема 2 (модель на 10 тем):**\n",
        "\n",
        "банка | банк | это | номер | звонки | кредит | сотрудники | день | прошу | телефон\n",
        "\n",
        "📌 Интерпретация:\n",
        "\n",
        "Здесь, по косвенным признакам, могут быть ВТБ или другие крупные банки.\n",
        "\n",
        "Типовые сюжеты:\n",
        "— навязчивые звонки,\n",
        "— колл-центр,\n",
        "— просьбы «разобраться»,\n",
        "— жалобы на сотрудников.\n",
        "\n",
        "**🔹 Тема 6 (модель на 10 тем):**\n",
        "\n",
        "банк | договора | средств | ооо | договор | банком | денежных | также | согласно | банка\n",
        "\n",
        "📌 Интерпретация:\n",
        "\n",
        "Формальные конфликты между клиентами и банками (в т.ч. юр. лица, ООO).\n",
        "Возможны кейсы с Газпромбанком, Открытием, ПСБ — реже упоминаются напрямую, но попадают в юридически окрашенные обращения."
      ],
      "metadata": {
        "id": "4bVJmnioCTYJ"
      }
    },
    {
      "cell_type": "markdown",
      "source": [
        "| Название банка          | Найденная тема | Комментарий                                               |\n",
        "| ----------------------- | -------------- | --------------------------------------------------------- |\n",
        "| **Сбербанк**            | Тема 7         | Часто обсуждаются отделения, документы, заявления         |\n",
        "| **ВТБ**                 | Тема 2         | Присутствуют проблемы с коммуникацией, «просу» и звонками |\n",
        "| **Открытие/ПСБ/другие** | Тема 6         | Обращения юридического характера, договоры, претензии     |\n"
      ],
      "metadata": {
        "id": "jnkXwOgkCpaZ"
      }
    },
    {
      "cell_type": "markdown",
      "source": [
        "# Часть 3. Классификация текстов"
      ],
      "metadata": {
        "id": "lhz7nHPxCyUR"
      }
    },
    {
      "cell_type": "markdown",
      "source": [
        "## 3.1. Формируем обучающую и тестовую выборки"
      ],
      "metadata": {
        "id": "YWorVWJHDcY7"
      }
    },
    {
      "cell_type": "code",
      "source": [
        "import pandas as pd\n",
        "\n",
        "# 📦 Загружаем датасет\n",
        "df = pd.read_json(\"banki_responses.json.bz2\", lines=True)\n",
        "\n",
        "# 🔍 Посмотрим названия всех столбцов\n",
        "print(df.columns.tolist())\n",
        "\n",
        "# 📌 Покажем первые строки\n",
        "df.head(3)\n"
      ],
      "metadata": {
        "colab": {
          "base_uri": "https://localhost:8080/",
          "height": 213
        },
        "id": "uxj9RT1IEsi6",
        "outputId": "0e10bd1d-9c22-41dc-aa79-0989b718605a"
      },
      "execution_count": 21,
      "outputs": [
        {
          "output_type": "stream",
          "name": "stdout",
          "text": [
            "['city', 'rating_not_checked', 'title', 'num_comments', 'bank_license', 'author', 'bank_name', 'datetime', 'text', 'rating_grade']\n"
          ]
        },
        {
          "output_type": "execute_result",
          "data": {
            "text/plain": [
              "                 city  rating_not_checked                  title  \\\n",
              "0          г. Воронеж                True          Ипотека на 5+   \n",
              "1           г. Казань                True         ЗВОНКИ СОСЕДЯМ   \n",
              "2  г. Санкт-Петербург                True  Ложная информация!!!!   \n",
              "\n",
              "   num_comments     bank_license             author         bank_name  \\\n",
              "0             0  лицензия № 1623         e.novikova            ВТБ 24   \n",
              "1             0  лицензия № 2289  KZN\\Vorontsova_NA  Русский Стандарт   \n",
              "2             0  лицензия № 2307          Evgenia15              Союз   \n",
              "\n",
              "             datetime                                               text  \\\n",
              "0 2015-06-08 11:06:56  Здравствуйте!  Хотелось бы выразить благодарно...   \n",
              "1 2015-06-06 18:17:52  Уважаемые представители департамента по работе...   \n",
              "2 2015-06-07 19:08:33  Здравствуйте. Столкнулась с такой ситуацией. в...   \n",
              "\n",
              "   rating_grade  \n",
              "0           5.0  \n",
              "1           2.0  \n",
              "2           2.0  "
            ],
            "text/html": [
              "\n",
              "  <div id=\"df-4a5abd90-25cf-4af2-a2e8-70634ab8d2c7\" class=\"colab-df-container\">\n",
              "    <div>\n",
              "<style scoped>\n",
              "    .dataframe tbody tr th:only-of-type {\n",
              "        vertical-align: middle;\n",
              "    }\n",
              "\n",
              "    .dataframe tbody tr th {\n",
              "        vertical-align: top;\n",
              "    }\n",
              "\n",
              "    .dataframe thead th {\n",
              "        text-align: right;\n",
              "    }\n",
              "</style>\n",
              "<table border=\"1\" class=\"dataframe\">\n",
              "  <thead>\n",
              "    <tr style=\"text-align: right;\">\n",
              "      <th></th>\n",
              "      <th>city</th>\n",
              "      <th>rating_not_checked</th>\n",
              "      <th>title</th>\n",
              "      <th>num_comments</th>\n",
              "      <th>bank_license</th>\n",
              "      <th>author</th>\n",
              "      <th>bank_name</th>\n",
              "      <th>datetime</th>\n",
              "      <th>text</th>\n",
              "      <th>rating_grade</th>\n",
              "    </tr>\n",
              "  </thead>\n",
              "  <tbody>\n",
              "    <tr>\n",
              "      <th>0</th>\n",
              "      <td>г. Воронеж</td>\n",
              "      <td>True</td>\n",
              "      <td>Ипотека на 5+</td>\n",
              "      <td>0</td>\n",
              "      <td>лицензия № 1623</td>\n",
              "      <td>e.novikova</td>\n",
              "      <td>ВТБ 24</td>\n",
              "      <td>2015-06-08 11:06:56</td>\n",
              "      <td>Здравствуйте!  Хотелось бы выразить благодарно...</td>\n",
              "      <td>5.0</td>\n",
              "    </tr>\n",
              "    <tr>\n",
              "      <th>1</th>\n",
              "      <td>г. Казань</td>\n",
              "      <td>True</td>\n",
              "      <td>ЗВОНКИ СОСЕДЯМ</td>\n",
              "      <td>0</td>\n",
              "      <td>лицензия № 2289</td>\n",
              "      <td>KZN\\Vorontsova_NA</td>\n",
              "      <td>Русский Стандарт</td>\n",
              "      <td>2015-06-06 18:17:52</td>\n",
              "      <td>Уважаемые представители департамента по работе...</td>\n",
              "      <td>2.0</td>\n",
              "    </tr>\n",
              "    <tr>\n",
              "      <th>2</th>\n",
              "      <td>г. Санкт-Петербург</td>\n",
              "      <td>True</td>\n",
              "      <td>Ложная информация!!!!</td>\n",
              "      <td>0</td>\n",
              "      <td>лицензия № 2307</td>\n",
              "      <td>Evgenia15</td>\n",
              "      <td>Союз</td>\n",
              "      <td>2015-06-07 19:08:33</td>\n",
              "      <td>Здравствуйте. Столкнулась с такой ситуацией. в...</td>\n",
              "      <td>2.0</td>\n",
              "    </tr>\n",
              "  </tbody>\n",
              "</table>\n",
              "</div>\n",
              "    <div class=\"colab-df-buttons\">\n",
              "\n",
              "  <div class=\"colab-df-container\">\n",
              "    <button class=\"colab-df-convert\" onclick=\"convertToInteractive('df-4a5abd90-25cf-4af2-a2e8-70634ab8d2c7')\"\n",
              "            title=\"Convert this dataframe to an interactive table.\"\n",
              "            style=\"display:none;\">\n",
              "\n",
              "  <svg xmlns=\"http://www.w3.org/2000/svg\" height=\"24px\" viewBox=\"0 -960 960 960\">\n",
              "    <path d=\"M120-120v-720h720v720H120Zm60-500h600v-160H180v160Zm220 220h160v-160H400v160Zm0 220h160v-160H400v160ZM180-400h160v-160H180v160Zm440 0h160v-160H620v160ZM180-180h160v-160H180v160Zm440 0h160v-160H620v160Z\"/>\n",
              "  </svg>\n",
              "    </button>\n",
              "\n",
              "  <style>\n",
              "    .colab-df-container {\n",
              "      display:flex;\n",
              "      gap: 12px;\n",
              "    }\n",
              "\n",
              "    .colab-df-convert {\n",
              "      background-color: #E8F0FE;\n",
              "      border: none;\n",
              "      border-radius: 50%;\n",
              "      cursor: pointer;\n",
              "      display: none;\n",
              "      fill: #1967D2;\n",
              "      height: 32px;\n",
              "      padding: 0 0 0 0;\n",
              "      width: 32px;\n",
              "    }\n",
              "\n",
              "    .colab-df-convert:hover {\n",
              "      background-color: #E2EBFA;\n",
              "      box-shadow: 0px 1px 2px rgba(60, 64, 67, 0.3), 0px 1px 3px 1px rgba(60, 64, 67, 0.15);\n",
              "      fill: #174EA6;\n",
              "    }\n",
              "\n",
              "    .colab-df-buttons div {\n",
              "      margin-bottom: 4px;\n",
              "    }\n",
              "\n",
              "    [theme=dark] .colab-df-convert {\n",
              "      background-color: #3B4455;\n",
              "      fill: #D2E3FC;\n",
              "    }\n",
              "\n",
              "    [theme=dark] .colab-df-convert:hover {\n",
              "      background-color: #434B5C;\n",
              "      box-shadow: 0px 1px 3px 1px rgba(0, 0, 0, 0.15);\n",
              "      filter: drop-shadow(0px 1px 2px rgba(0, 0, 0, 0.3));\n",
              "      fill: #FFFFFF;\n",
              "    }\n",
              "  </style>\n",
              "\n",
              "    <script>\n",
              "      const buttonEl =\n",
              "        document.querySelector('#df-4a5abd90-25cf-4af2-a2e8-70634ab8d2c7 button.colab-df-convert');\n",
              "      buttonEl.style.display =\n",
              "        google.colab.kernel.accessAllowed ? 'block' : 'none';\n",
              "\n",
              "      async function convertToInteractive(key) {\n",
              "        const element = document.querySelector('#df-4a5abd90-25cf-4af2-a2e8-70634ab8d2c7');\n",
              "        const dataTable =\n",
              "          await google.colab.kernel.invokeFunction('convertToInteractive',\n",
              "                                                    [key], {});\n",
              "        if (!dataTable) return;\n",
              "\n",
              "        const docLinkHtml = 'Like what you see? Visit the ' +\n",
              "          '<a target=\"_blank\" href=https://colab.research.google.com/notebooks/data_table.ipynb>data table notebook</a>'\n",
              "          + ' to learn more about interactive tables.';\n",
              "        element.innerHTML = '';\n",
              "        dataTable['output_type'] = 'display_data';\n",
              "        await google.colab.output.renderOutput(dataTable, element);\n",
              "        const docLink = document.createElement('div');\n",
              "        docLink.innerHTML = docLinkHtml;\n",
              "        element.appendChild(docLink);\n",
              "      }\n",
              "    </script>\n",
              "  </div>\n",
              "\n",
              "\n",
              "    <div id=\"df-abf9bec2-94bf-4399-ac58-ec0b5200f68f\">\n",
              "      <button class=\"colab-df-quickchart\" onclick=\"quickchart('df-abf9bec2-94bf-4399-ac58-ec0b5200f68f')\"\n",
              "                title=\"Suggest charts\"\n",
              "                style=\"display:none;\">\n",
              "\n",
              "<svg xmlns=\"http://www.w3.org/2000/svg\" height=\"24px\"viewBox=\"0 0 24 24\"\n",
              "     width=\"24px\">\n",
              "    <g>\n",
              "        <path d=\"M19 3H5c-1.1 0-2 .9-2 2v14c0 1.1.9 2 2 2h14c1.1 0 2-.9 2-2V5c0-1.1-.9-2-2-2zM9 17H7v-7h2v7zm4 0h-2V7h2v10zm4 0h-2v-4h2v4z\"/>\n",
              "    </g>\n",
              "</svg>\n",
              "      </button>\n",
              "\n",
              "<style>\n",
              "  .colab-df-quickchart {\n",
              "      --bg-color: #E8F0FE;\n",
              "      --fill-color: #1967D2;\n",
              "      --hover-bg-color: #E2EBFA;\n",
              "      --hover-fill-color: #174EA6;\n",
              "      --disabled-fill-color: #AAA;\n",
              "      --disabled-bg-color: #DDD;\n",
              "  }\n",
              "\n",
              "  [theme=dark] .colab-df-quickchart {\n",
              "      --bg-color: #3B4455;\n",
              "      --fill-color: #D2E3FC;\n",
              "      --hover-bg-color: #434B5C;\n",
              "      --hover-fill-color: #FFFFFF;\n",
              "      --disabled-bg-color: #3B4455;\n",
              "      --disabled-fill-color: #666;\n",
              "  }\n",
              "\n",
              "  .colab-df-quickchart {\n",
              "    background-color: var(--bg-color);\n",
              "    border: none;\n",
              "    border-radius: 50%;\n",
              "    cursor: pointer;\n",
              "    display: none;\n",
              "    fill: var(--fill-color);\n",
              "    height: 32px;\n",
              "    padding: 0;\n",
              "    width: 32px;\n",
              "  }\n",
              "\n",
              "  .colab-df-quickchart:hover {\n",
              "    background-color: var(--hover-bg-color);\n",
              "    box-shadow: 0 1px 2px rgba(60, 64, 67, 0.3), 0 1px 3px 1px rgba(60, 64, 67, 0.15);\n",
              "    fill: var(--button-hover-fill-color);\n",
              "  }\n",
              "\n",
              "  .colab-df-quickchart-complete:disabled,\n",
              "  .colab-df-quickchart-complete:disabled:hover {\n",
              "    background-color: var(--disabled-bg-color);\n",
              "    fill: var(--disabled-fill-color);\n",
              "    box-shadow: none;\n",
              "  }\n",
              "\n",
              "  .colab-df-spinner {\n",
              "    border: 2px solid var(--fill-color);\n",
              "    border-color: transparent;\n",
              "    border-bottom-color: var(--fill-color);\n",
              "    animation:\n",
              "      spin 1s steps(1) infinite;\n",
              "  }\n",
              "\n",
              "  @keyframes spin {\n",
              "    0% {\n",
              "      border-color: transparent;\n",
              "      border-bottom-color: var(--fill-color);\n",
              "      border-left-color: var(--fill-color);\n",
              "    }\n",
              "    20% {\n",
              "      border-color: transparent;\n",
              "      border-left-color: var(--fill-color);\n",
              "      border-top-color: var(--fill-color);\n",
              "    }\n",
              "    30% {\n",
              "      border-color: transparent;\n",
              "      border-left-color: var(--fill-color);\n",
              "      border-top-color: var(--fill-color);\n",
              "      border-right-color: var(--fill-color);\n",
              "    }\n",
              "    40% {\n",
              "      border-color: transparent;\n",
              "      border-right-color: var(--fill-color);\n",
              "      border-top-color: var(--fill-color);\n",
              "    }\n",
              "    60% {\n",
              "      border-color: transparent;\n",
              "      border-right-color: var(--fill-color);\n",
              "    }\n",
              "    80% {\n",
              "      border-color: transparent;\n",
              "      border-right-color: var(--fill-color);\n",
              "      border-bottom-color: var(--fill-color);\n",
              "    }\n",
              "    90% {\n",
              "      border-color: transparent;\n",
              "      border-bottom-color: var(--fill-color);\n",
              "    }\n",
              "  }\n",
              "</style>\n",
              "\n",
              "      <script>\n",
              "        async function quickchart(key) {\n",
              "          const quickchartButtonEl =\n",
              "            document.querySelector('#' + key + ' button');\n",
              "          quickchartButtonEl.disabled = true;  // To prevent multiple clicks.\n",
              "          quickchartButtonEl.classList.add('colab-df-spinner');\n",
              "          try {\n",
              "            const charts = await google.colab.kernel.invokeFunction(\n",
              "                'suggestCharts', [key], {});\n",
              "          } catch (error) {\n",
              "            console.error('Error during call to suggestCharts:', error);\n",
              "          }\n",
              "          quickchartButtonEl.classList.remove('colab-df-spinner');\n",
              "          quickchartButtonEl.classList.add('colab-df-quickchart-complete');\n",
              "        }\n",
              "        (() => {\n",
              "          let quickchartButtonEl =\n",
              "            document.querySelector('#df-abf9bec2-94bf-4399-ac58-ec0b5200f68f button');\n",
              "          quickchartButtonEl.style.display =\n",
              "            google.colab.kernel.accessAllowed ? 'block' : 'none';\n",
              "        })();\n",
              "      </script>\n",
              "    </div>\n",
              "    </div>\n",
              "  </div>\n"
            ],
            "application/vnd.google.colaboratory.intrinsic+json": {
              "type": "dataframe",
              "variable_name": "df"
            }
          },
          "metadata": {},
          "execution_count": 21
        }
      ]
    },
    {
      "cell_type": "code",
      "source": [
        "# 🧹 Фильтруем только резко отрицательные (оценка 1.0) и положительные (оценка 5.0)\n",
        "df_filtered = df[df[\"rating_grade\"].isin([1.0, 5.0])].copy()\n",
        "\n",
        "# 🏷️ Добавляем бинарные метки: 1.0 → негатив (0), 5.0 → позитив (1)\n",
        "df_filtered[\"label\"] = df_filtered[\"rating_grade\"].apply(lambda x: 1 if x == 5.0 else 0)\n",
        "\n",
        "# 📊 Проверим распределение классов\n",
        "print(df_filtered[\"label\"].value_counts())\n",
        "df_filtered[[\"text\", \"label\"]].head(3)\n"
      ],
      "metadata": {
        "colab": {
          "base_uri": "https://localhost:8080/",
          "height": 215
        },
        "id": "N7WcDiLNG0xo",
        "outputId": "5f6b4d18-a995-449f-8d45-8d85f0f0893f"
      },
      "execution_count": 22,
      "outputs": [
        {
          "output_type": "stream",
          "name": "stdout",
          "text": [
            "label\n",
            "0    72307\n",
            "1    26715\n",
            "Name: count, dtype: int64\n"
          ]
        },
        {
          "output_type": "execute_result",
          "data": {
            "text/plain": [
              "                                                text  label\n",
              "0  Здравствуйте!  Хотелось бы выразить благодарно...      1\n",
              "3  1 июня 2015 в Москве в отделении по адресу Смо...      0\n",
              "4  История очень долгая! Пришел я в банк (это раз...      0"
            ],
            "text/html": [
              "\n",
              "  <div id=\"df-30fc14dc-cfaa-4a2f-bc24-0cde4d79218b\" class=\"colab-df-container\">\n",
              "    <div>\n",
              "<style scoped>\n",
              "    .dataframe tbody tr th:only-of-type {\n",
              "        vertical-align: middle;\n",
              "    }\n",
              "\n",
              "    .dataframe tbody tr th {\n",
              "        vertical-align: top;\n",
              "    }\n",
              "\n",
              "    .dataframe thead th {\n",
              "        text-align: right;\n",
              "    }\n",
              "</style>\n",
              "<table border=\"1\" class=\"dataframe\">\n",
              "  <thead>\n",
              "    <tr style=\"text-align: right;\">\n",
              "      <th></th>\n",
              "      <th>text</th>\n",
              "      <th>label</th>\n",
              "    </tr>\n",
              "  </thead>\n",
              "  <tbody>\n",
              "    <tr>\n",
              "      <th>0</th>\n",
              "      <td>Здравствуйте!  Хотелось бы выразить благодарно...</td>\n",
              "      <td>1</td>\n",
              "    </tr>\n",
              "    <tr>\n",
              "      <th>3</th>\n",
              "      <td>1 июня 2015 в Москве в отделении по адресу Смо...</td>\n",
              "      <td>0</td>\n",
              "    </tr>\n",
              "    <tr>\n",
              "      <th>4</th>\n",
              "      <td>История очень долгая! Пришел я в банк (это раз...</td>\n",
              "      <td>0</td>\n",
              "    </tr>\n",
              "  </tbody>\n",
              "</table>\n",
              "</div>\n",
              "    <div class=\"colab-df-buttons\">\n",
              "\n",
              "  <div class=\"colab-df-container\">\n",
              "    <button class=\"colab-df-convert\" onclick=\"convertToInteractive('df-30fc14dc-cfaa-4a2f-bc24-0cde4d79218b')\"\n",
              "            title=\"Convert this dataframe to an interactive table.\"\n",
              "            style=\"display:none;\">\n",
              "\n",
              "  <svg xmlns=\"http://www.w3.org/2000/svg\" height=\"24px\" viewBox=\"0 -960 960 960\">\n",
              "    <path d=\"M120-120v-720h720v720H120Zm60-500h600v-160H180v160Zm220 220h160v-160H400v160Zm0 220h160v-160H400v160ZM180-400h160v-160H180v160Zm440 0h160v-160H620v160ZM180-180h160v-160H180v160Zm440 0h160v-160H620v160Z\"/>\n",
              "  </svg>\n",
              "    </button>\n",
              "\n",
              "  <style>\n",
              "    .colab-df-container {\n",
              "      display:flex;\n",
              "      gap: 12px;\n",
              "    }\n",
              "\n",
              "    .colab-df-convert {\n",
              "      background-color: #E8F0FE;\n",
              "      border: none;\n",
              "      border-radius: 50%;\n",
              "      cursor: pointer;\n",
              "      display: none;\n",
              "      fill: #1967D2;\n",
              "      height: 32px;\n",
              "      padding: 0 0 0 0;\n",
              "      width: 32px;\n",
              "    }\n",
              "\n",
              "    .colab-df-convert:hover {\n",
              "      background-color: #E2EBFA;\n",
              "      box-shadow: 0px 1px 2px rgba(60, 64, 67, 0.3), 0px 1px 3px 1px rgba(60, 64, 67, 0.15);\n",
              "      fill: #174EA6;\n",
              "    }\n",
              "\n",
              "    .colab-df-buttons div {\n",
              "      margin-bottom: 4px;\n",
              "    }\n",
              "\n",
              "    [theme=dark] .colab-df-convert {\n",
              "      background-color: #3B4455;\n",
              "      fill: #D2E3FC;\n",
              "    }\n",
              "\n",
              "    [theme=dark] .colab-df-convert:hover {\n",
              "      background-color: #434B5C;\n",
              "      box-shadow: 0px 1px 3px 1px rgba(0, 0, 0, 0.15);\n",
              "      filter: drop-shadow(0px 1px 2px rgba(0, 0, 0, 0.3));\n",
              "      fill: #FFFFFF;\n",
              "    }\n",
              "  </style>\n",
              "\n",
              "    <script>\n",
              "      const buttonEl =\n",
              "        document.querySelector('#df-30fc14dc-cfaa-4a2f-bc24-0cde4d79218b button.colab-df-convert');\n",
              "      buttonEl.style.display =\n",
              "        google.colab.kernel.accessAllowed ? 'block' : 'none';\n",
              "\n",
              "      async function convertToInteractive(key) {\n",
              "        const element = document.querySelector('#df-30fc14dc-cfaa-4a2f-bc24-0cde4d79218b');\n",
              "        const dataTable =\n",
              "          await google.colab.kernel.invokeFunction('convertToInteractive',\n",
              "                                                    [key], {});\n",
              "        if (!dataTable) return;\n",
              "\n",
              "        const docLinkHtml = 'Like what you see? Visit the ' +\n",
              "          '<a target=\"_blank\" href=https://colab.research.google.com/notebooks/data_table.ipynb>data table notebook</a>'\n",
              "          + ' to learn more about interactive tables.';\n",
              "        element.innerHTML = '';\n",
              "        dataTable['output_type'] = 'display_data';\n",
              "        await google.colab.output.renderOutput(dataTable, element);\n",
              "        const docLink = document.createElement('div');\n",
              "        docLink.innerHTML = docLinkHtml;\n",
              "        element.appendChild(docLink);\n",
              "      }\n",
              "    </script>\n",
              "  </div>\n",
              "\n",
              "\n",
              "    <div id=\"df-e6fd7ae1-17d0-4ee3-8b42-dbccf5881de1\">\n",
              "      <button class=\"colab-df-quickchart\" onclick=\"quickchart('df-e6fd7ae1-17d0-4ee3-8b42-dbccf5881de1')\"\n",
              "                title=\"Suggest charts\"\n",
              "                style=\"display:none;\">\n",
              "\n",
              "<svg xmlns=\"http://www.w3.org/2000/svg\" height=\"24px\"viewBox=\"0 0 24 24\"\n",
              "     width=\"24px\">\n",
              "    <g>\n",
              "        <path d=\"M19 3H5c-1.1 0-2 .9-2 2v14c0 1.1.9 2 2 2h14c1.1 0 2-.9 2-2V5c0-1.1-.9-2-2-2zM9 17H7v-7h2v7zm4 0h-2V7h2v10zm4 0h-2v-4h2v4z\"/>\n",
              "    </g>\n",
              "</svg>\n",
              "      </button>\n",
              "\n",
              "<style>\n",
              "  .colab-df-quickchart {\n",
              "      --bg-color: #E8F0FE;\n",
              "      --fill-color: #1967D2;\n",
              "      --hover-bg-color: #E2EBFA;\n",
              "      --hover-fill-color: #174EA6;\n",
              "      --disabled-fill-color: #AAA;\n",
              "      --disabled-bg-color: #DDD;\n",
              "  }\n",
              "\n",
              "  [theme=dark] .colab-df-quickchart {\n",
              "      --bg-color: #3B4455;\n",
              "      --fill-color: #D2E3FC;\n",
              "      --hover-bg-color: #434B5C;\n",
              "      --hover-fill-color: #FFFFFF;\n",
              "      --disabled-bg-color: #3B4455;\n",
              "      --disabled-fill-color: #666;\n",
              "  }\n",
              "\n",
              "  .colab-df-quickchart {\n",
              "    background-color: var(--bg-color);\n",
              "    border: none;\n",
              "    border-radius: 50%;\n",
              "    cursor: pointer;\n",
              "    display: none;\n",
              "    fill: var(--fill-color);\n",
              "    height: 32px;\n",
              "    padding: 0;\n",
              "    width: 32px;\n",
              "  }\n",
              "\n",
              "  .colab-df-quickchart:hover {\n",
              "    background-color: var(--hover-bg-color);\n",
              "    box-shadow: 0 1px 2px rgba(60, 64, 67, 0.3), 0 1px 3px 1px rgba(60, 64, 67, 0.15);\n",
              "    fill: var(--button-hover-fill-color);\n",
              "  }\n",
              "\n",
              "  .colab-df-quickchart-complete:disabled,\n",
              "  .colab-df-quickchart-complete:disabled:hover {\n",
              "    background-color: var(--disabled-bg-color);\n",
              "    fill: var(--disabled-fill-color);\n",
              "    box-shadow: none;\n",
              "  }\n",
              "\n",
              "  .colab-df-spinner {\n",
              "    border: 2px solid var(--fill-color);\n",
              "    border-color: transparent;\n",
              "    border-bottom-color: var(--fill-color);\n",
              "    animation:\n",
              "      spin 1s steps(1) infinite;\n",
              "  }\n",
              "\n",
              "  @keyframes spin {\n",
              "    0% {\n",
              "      border-color: transparent;\n",
              "      border-bottom-color: var(--fill-color);\n",
              "      border-left-color: var(--fill-color);\n",
              "    }\n",
              "    20% {\n",
              "      border-color: transparent;\n",
              "      border-left-color: var(--fill-color);\n",
              "      border-top-color: var(--fill-color);\n",
              "    }\n",
              "    30% {\n",
              "      border-color: transparent;\n",
              "      border-left-color: var(--fill-color);\n",
              "      border-top-color: var(--fill-color);\n",
              "      border-right-color: var(--fill-color);\n",
              "    }\n",
              "    40% {\n",
              "      border-color: transparent;\n",
              "      border-right-color: var(--fill-color);\n",
              "      border-top-color: var(--fill-color);\n",
              "    }\n",
              "    60% {\n",
              "      border-color: transparent;\n",
              "      border-right-color: var(--fill-color);\n",
              "    }\n",
              "    80% {\n",
              "      border-color: transparent;\n",
              "      border-right-color: var(--fill-color);\n",
              "      border-bottom-color: var(--fill-color);\n",
              "    }\n",
              "    90% {\n",
              "      border-color: transparent;\n",
              "      border-bottom-color: var(--fill-color);\n",
              "    }\n",
              "  }\n",
              "</style>\n",
              "\n",
              "      <script>\n",
              "        async function quickchart(key) {\n",
              "          const quickchartButtonEl =\n",
              "            document.querySelector('#' + key + ' button');\n",
              "          quickchartButtonEl.disabled = true;  // To prevent multiple clicks.\n",
              "          quickchartButtonEl.classList.add('colab-df-spinner');\n",
              "          try {\n",
              "            const charts = await google.colab.kernel.invokeFunction(\n",
              "                'suggestCharts', [key], {});\n",
              "          } catch (error) {\n",
              "            console.error('Error during call to suggestCharts:', error);\n",
              "          }\n",
              "          quickchartButtonEl.classList.remove('colab-df-spinner');\n",
              "          quickchartButtonEl.classList.add('colab-df-quickchart-complete');\n",
              "        }\n",
              "        (() => {\n",
              "          let quickchartButtonEl =\n",
              "            document.querySelector('#df-e6fd7ae1-17d0-4ee3-8b42-dbccf5881de1 button');\n",
              "          quickchartButtonEl.style.display =\n",
              "            google.colab.kernel.accessAllowed ? 'block' : 'none';\n",
              "        })();\n",
              "      </script>\n",
              "    </div>\n",
              "    </div>\n",
              "  </div>\n"
            ],
            "application/vnd.google.colaboratory.intrinsic+json": {
              "type": "dataframe",
              "summary": "{\n  \"name\": \"df_filtered[[\\\"text\\\", \\\"label\\\"]]\",\n  \"rows\": 3,\n  \"fields\": [\n    {\n      \"column\": \"text\",\n      \"properties\": {\n        \"dtype\": \"string\",\n        \"num_unique_values\": 3,\n        \"samples\": [\n          \"\\u0417\\u0434\\u0440\\u0430\\u0432\\u0441\\u0442\\u0432\\u0443\\u0439\\u0442\\u0435!  \\u0425\\u043e\\u0442\\u0435\\u043b\\u043e\\u0441\\u044c \\u0431\\u044b \\u0432\\u044b\\u0440\\u0430\\u0437\\u0438\\u0442\\u044c \\u0431\\u043b\\u0430\\u0433\\u043e\\u0434\\u0430\\u0440\\u043d\\u043e\\u0441\\u0442\\u044c \\u0431\\u0430\\u043d\\u043a\\u0443 \\u0412\\u0422\\u041124 \\u0433.\\u0412\\u043e\\u0440\\u043e\\u043d\\u0435\\u0436 \\u043f\\u043b. \\u041b\\u0435\\u043d\\u0438\\u043d\\u0430 \\u0438 \\u043d\\u0435\\u043f\\u043e\\u0441\\u0440\\u0435\\u0434\\u0441\\u0442\\u0432\\u0435\\u043d\\u043d\\u043e \\u0441\\u043f\\u0435\\u0446\\u0438\\u0430\\u043b\\u0438\\u0441\\u0442\\u0443 \\u043f\\u043e \\u0438\\u043f\\u043e\\u0442\\u0435\\u0447\\u043d\\u043e\\u043c\\u0443 \\u043a\\u0440\\u0435\\u0434\\u0438\\u0442\\u043e\\u0432\\u0430\\u043d\\u0438\\u044e \\u041c\\u0435\\u0449\\u0435\\u0440\\u044f\\u043a\\u043e\\u0432\\u043e\\u0439 \\u042e\\u043b\\u0438\\u0438 \\u0410\\u043d\\u0430\\u0442\\u043e\\u043b\\u044c\\u0435\\u0432\\u043d\\u0435. \\u042d\\u0442\\u043e \\u0443\\u0436\\u0435 \\u043c\\u043e\\u044f \\u0432\\u0442\\u043e\\u0440\\u0430\\u044f \\u0438\\u043f\\u043e\\u0442\\u0435\\u043a\\u0430 \\u0432 \\u044d\\u0442\\u043e\\u043c \\u0431\\u0430\\u043d\\u043a\\u0435 \\u0438 \\u0443 \\u044d\\u0442\\u043e\\u0433\\u043e \\u0441\\u043f\\u0435\\u0446\\u0438\\u0430\\u043b\\u0438\\u0441\\u0442\\u0430. \\u0412\\u043e\\u043f\\u0440\\u043e\\u0441\\u043e\\u0432 \\u0441 \\u043f\\u043e\\u0434\\u0430\\u0447\\u0435\\u0439 \\u0434\\u043e\\u043a\\u0443\\u043c\\u0435\\u043d\\u0442\\u043e\\u0432 \\u043d\\u0435 \\u0431\\u044b\\u043b\\u043e, \\u0431\\u044b\\u0441\\u0442\\u0440\\u043e\\u0435 \\u043f\\u0440\\u0438\\u043d\\u044f\\u0442\\u0438\\u0435 \\u0440\\u0435\\u0448\\u0435\\u043d\\u0438\\u044f \\u043e\\u0431 \\u043e\\u0434\\u043e\\u0431\\u0440\\u0435\\u043d\\u0438\\u0438 \\u0432\\u0441\\u0435\\u0439 \\u043d\\u0435\\u043e\\u0431\\u0445\\u043e\\u0434\\u0438\\u043c\\u043e\\u0439 \\u0441\\u0443\\u043c\\u043c\\u044b \\u0438 \\u043d\\u0438\\u043a\\u0430\\u043a\\u0438\\u0445 \\u043f\\u0440\\u043e\\u0431\\u043b\\u0435\\u043c \\u0441 \\u0432\\u044b\\u0434\\u0430\\u0447\\u0435\\u0439 \\u043a\\u0440\\u0435\\u0434\\u0438\\u0442\\u0430. \\u0423\\u0434\\u043e\\u0431\\u043d\\u043e, \\u0447\\u0442\\u043e \\u043d\\u0438\\u043a\\u0443\\u0434\\u0430 \\u043d\\u0435 \\u043d\\u0443\\u0436\\u043d\\u043e \\u0445\\u043e\\u0434\\u0438\\u0442\\u044c \\u0438 \\u0441\\u043e \\u0441\\u0442\\u043e\\u0440\\u043e\\u043d\\u043d\\u0438\\u043c\\u0438 \\u043e\\u0440\\u0433\\u0430\\u043d\\u0438\\u0437\\u0430\\u0446\\u0438\\u044f\\u043c\\u0438 \\u043d\\u0435 \\u043d\\u0443\\u0436\\u043d\\u043e \\u0434\\u043e\\u0433\\u043e\\u0432\\u0430\\u0440\\u0438\\u0432\\u0430\\u0442\\u044c\\u0441\\u044f. \\u041d\\u0430 \\u043e\\u0446\\u0435\\u043d\\u043a\\u0443 \\u0441\\u043e\\u0442\\u0440\\u0443\\u0434\\u043d\\u0438\\u043a\\u0438 \\u0431\\u0430\\u043d\\u043a\\u0430 \\u043f\\u0440\\u0438\\u0435\\u0445\\u0430\\u043b\\u0438 \\u0432\\u043e\\u0432\\u0440\\u0435\\u043c\\u044f, \\u0441\\u0442\\u0440\\u0430\\u0445\\u043e\\u0432\\u043a\\u0443 \\u043e\\u0444\\u043e\\u0440\\u043c\\u0438\\u043b\\u0438 \\u043f\\u0435\\u0440\\u0435\\u0434 \\u0432\\u044b\\u0434\\u0430\\u0447\\u0435\\u0439 \\u043a\\u0440\\u0435\\u0434\\u0438\\u0442\\u0430 \\u0432 \\u043e\\u0442\\u0434\\u0435\\u043b\\u0435\\u043d\\u0438\\u0438 \\u0431\\u0430\\u043d\\u043a\\u0430. \\u0412\\u0441\\u0435 \\u0431\\u044b\\u0441\\u0442\\u0440\\u043e, \\u0447\\u0435\\u0442\\u043a\\u043e, \\u0441\\u043b\\u0430\\u0436\\u0435\\u043d\\u043d\\u043e. \\u041d\\u0430 \\u0432\\u0441\\u0435 \\u043c\\u043e\\u0438 \\u0432\\u043e\\u043f\\u0440\\u043e\\u0441\\u044b \\u043e \\u0441\\u0440\\u0430\\u0432\\u043d\\u0435\\u043d\\u0438\\u0438 \\u0443\\u0441\\u043b\\u043e\\u0432\\u0438\\u0439 \\u042e\\u043b\\u0438\\u044f \\u043f\\u043e\\u0434\\u0440\\u043e\\u0431\\u043d\\u043e \\u043e\\u0442\\u0432\\u0435\\u0447\\u0430\\u043b\\u0430, \\u0447\\u0442\\u043e \\u0441\\u043e\\u043c\\u043d\\u0435\\u043d\\u0438\\u0439 \\u043d\\u0438\\u043a\\u0430\\u043a\\u0438\\u0445 \\u043d\\u0435 \\u0432\\u043e\\u0437\\u043d\\u0438\\u043a\\u043b\\u043e \\u0432 \\u043a\\u0430\\u043a\\u043e\\u043c \\u0438\\u043c\\u0435\\u043d\\u043d\\u043e \\u0431\\u0430\\u043d\\u043a\\u0435 \\u0431\\u0440\\u0430\\u0442\\u044c (\\u0431\\u044b\\u043b \\u0432\\u044b\\u0431\\u043e\\u0440 \\u043c\\u0435\\u0436\\u0434\\u0443 \\u0441\\u0431\\u0435\\u0440\\u0431\\u0430\\u043d\\u043a\\u043e\\u043c \\u0438 \\u0432\\u0442\\u043124). \\u0418\\u0437 \\u0434\\u043e\\u043f\\u043e\\u043b\\u043d\\u0438\\u0442\\u0435\\u043b\\u044c\\u043d\\u044b\\u0445 \\u0440\\u0430\\u0441\\u0445\\u043e\\u0434\\u043e\\u0432 \\u043f\\u0440\\u0438 \\u0432\\u044b\\u0434\\u0430\\u0447\\u0435 \\u043a\\u0440\\u0435\\u0434\\u0438\\u0442\\u0430 - \\u0442\\u043e\\u043b\\u044c\\u043a\\u043e \\u0441\\u0442\\u0440\\u0430\\u0445\\u043e\\u0432\\u043a\\u0430, \\u0447\\u0442\\u043e \\u044f\\u0432\\u043b\\u044f\\u0435\\u0442\\u0441\\u044f \\u0441\\u0435\\u0439\\u0447\\u0430\\u0441 \\u043e\\u0431\\u044f\\u0437\\u0430\\u0442\\u0435\\u043b\\u044c\\u043d\\u044b\\u043c \\u0443\\u0441\\u043b\\u043e\\u0432\\u0438\\u0435\\u043c \\u043f\\u0440\\u0438 \\u043e\\u0444\\u043e\\u0440\\u043c\\u043b\\u0435\\u043d\\u0438\\u0438 \\u0438\\u043f\\u043e\\u0442\\u0435\\u043a\\u0438. \\u0422\\u0430\\u043a\\u0436\\u0435 \\u043c\\u043d\\u0435 \\u043e\\u0444\\u043e\\u0440\\u043c\\u0438\\u043b\\u0438 \\u043a\\u0430\\u0440\\u0442\\u0443 \\\"\\u041f\\u0440\\u0438\\u0432\\u0438\\u043b\\u0435\\u0433\\u0438\\u044f\\\" \\u0431\\u0435\\u0441\\u043f\\u043b\\u0430\\u0442\\u043d\\u043e. \\u041e\\u0447\\u0435\\u043d\\u044c \\u0431\\u044b\\u043b\\u043e \\u043f\\u0440\\u0438\\u044f\\u0442\\u043d\\u043e. \\u0412\\u0441\\u0435\\u043c \\u0441\\u0432\\u043e\\u0438\\u043c \\u0437\\u043d\\u0430\\u043a\\u043e\\u043c\\u044b\\u043c \\u0440\\u0435\\u043a\\u043e\\u043c\\u0435\\u043d\\u0434\\u0443\\u044e \\u043e\\u0431\\u0440\\u0430\\u0449\\u0430\\u0442\\u044c\\u0441\\u044f \\u043a \\u042e\\u043b\\u0438\\u0438. \\u041d\\u0435\\u043a\\u043e\\u0442\\u043e\\u0440\\u044b\\u0435 \\u0443\\u0436\\u0435 \\u0432\\u0437\\u044f\\u043b\\u0438 \\u0438\\u043f\\u043e\\u0442\\u0435\\u043a\\u0443 \\u0438 \\u0432\\u0441\\u0435\\u0433\\u0434\\u0430 \\u0442\\u043e\\u043b\\u044c\\u043a\\u043e \\u043f\\u043e\\u043b\\u043e\\u0436\\u0438\\u0442\\u0435\\u043b\\u044c\\u043d\\u044b\\u0435 \\u043e\\u0442\\u0437\\u044b\\u0432\\u044b. \\u0421\\u043f\\u0430\\u0441\\u0438\\u0431\\u043e \\u0437\\u0430 \\u0445\\u043e\\u0440\\u043e\\u0448\\u0435\\u0435 \\u043e\\u0442\\u043d\\u043e\\u0448\\u0435\\u043d\\u0438\\u0435 \\u043a \\u043a\\u043b\\u0438\\u0435\\u043d\\u0442\\u0430\\u043c.\",\n          \"1 \\u0438\\u044e\\u043d\\u044f 2015 \\u0432 \\u041c\\u043e\\u0441\\u043a\\u0432\\u0435 \\u0432 \\u043e\\u0442\\u0434\\u0435\\u043b\\u0435\\u043d\\u0438\\u0438 \\u043f\\u043e \\u0430\\u0434\\u0440\\u0435\\u0441\\u0443\\u00a0\\u0421\\u043c\\u043e\\u043b\\u0435\\u043d\\u0441\\u043a\\u0430\\u044f-\\u0421\\u0435\\u043d\\u043d\\u0430\\u044f \\u043f\\u043b\\u043e\\u0449\\u0430\\u0434\\u044c 23/25, \\u043e\\u043a\\u043e\\u043b\\u043e 21:30 \\u043d\\u0430 \\u043c\\u043e\\u0439 \\u0441\\u0447\\u0435\\u0442 \\u0431\\u044b\\u043b\\u0438 \\u0432\\u043d\\u0435\\u0441\\u0435\\u043d\\u044b \\u0441\\u0440\\u0435\\u0434\\u0441\\u0442\\u0432\\u0430 \\u0432 \\u0440\\u0430\\u0437\\u043c\\u0435\\u0440\\u0435 25 000 \\u0440\\u0443\\u0431\\u043b\\u0435\\u0439. \\u0412 \\u043a\\u043e\\u043d\\u0446\\u0435 \\u043e\\u043f\\u0435\\u0440\\u0430\\u0446\\u0438\\u0438 \\u0431\\u0430\\u043d\\u043a\\u043e\\u043c\\u0430\\u0442 \\u0437\\u0430\\u0432\\u0438\\u0441, \\u0438 \\u0437\\u0430\\u0447\\u0438\\u0441\\u043b\\u0435\\u043d\\u0438\\u044f \\u043d\\u0435 \\u043f\\u0440\\u043e\\u0438\\u0437\\u043e\\u0448\\u043b\\u043e. \\u042f \\u043f\\u043e\\u0437\\u0432\\u043e\\u043d\\u0438\\u043b \\u0432 \\u0421\\u0438\\u0442\\u0438\\u0444\\u043e\\u043d, \\u043d\\u0430\\u0437\\u0432\\u0430\\u043b \\u043d\\u043e\\u043c\\u0435\\u0440 \\u0431\\u0430\\u043d\\u043a\\u043e\\u043c\\u0430\\u0442\\u0430\\u00a08143, \\u0430\\u0434\\u0440\\u0435\\u0441 \\u0438 \\u0432\\u0440\\u0435\\u043c\\u044f \\u0432\\u043d\\u0435\\u0441\\u0435\\u043d\\u0438\\u044f \\u0441\\u0440\\u0435\\u0434\\u0441\\u0442\\u0432, \\u043d\\u043e\\u043c\\u0438\\u043d\\u0430\\u043b \\u0438 \\u043a\\u043e\\u043b\\u0438\\u0447\\u0435\\u0441\\u0442\\u0432\\u043e \\u043a\\u0443\\u043f\\u044e\\u0440 (5\\u04455000\\u0440\\u0443\\u0431.).\\u00a0\\u0421\\u043e\\u0442\\u0440\\u0443\\u0434\\u043d\\u0438\\u043a \\u0431\\u0430\\u043d\\u043a\\u0430 \\u0437\\u0430\\u0432\\u0435\\u0440\\u0438\\u043b, \\u0447\\u0442\\u043e \\u0432 \\u0442\\u0435\\u0447\\u0435\\u043d\\u0438\\u0435 5 \\u0431\\u0430\\u043d\\u043a\\u043e\\u0432\\u0441\\u043a\\u0438\\u0445 \\u0434\\u043d\\u0435\\u0439 \\u043f\\u043e \\u043c\\u043e\\u0435\\u043c\\u0443 \\u0437\\u0430\\u044f\\u0432\\u043b\\u0435\\u043d\\u0438\\u044e \\u0431\\u0443\\u0434\\u0435\\u0442 \\u043f\\u0440\\u043e\\u0432\\u0435\\u0434\\u0435\\u043d\\u043e \\u0440\\u0430\\u0441\\u0441\\u043b\\u0435\\u0434\\u043e\\u0432\\u0430\\u043d\\u0438\\u0435, \\u043e \\u0440\\u0435\\u0437\\u0443\\u043b\\u044c\\u0442\\u0430\\u0442\\u0435 \\u043a\\u043e\\u0442\\u043e\\u0440\\u043e\\u0433\\u043e \\u043c\\u043d\\u0435 \\u0441\\u043e\\u043e\\u0431\\u0449\\u0430\\u0442. \\u0421\\u043f\\u0443\\u0441\\u0442\\u044f 5 \\u0434\\u043d\\u0435\\u0439, 6 \\u0438\\u044e\\u043d\\u044f \\u043c\\u043d\\u0435 \\u043f\\u0440\\u0438\\u0448\\u0435\\u043b \\u043e\\u0442\\u0432\\u0435\\u0442 \\u0431\\u0430\\u043d\\u043a\\u0430,  \\u0432 \\u043a\\u043e\\u0442\\u043e\\u0440\\u043e\\u043c \\u0441\\u043e\\u043e\\u0431\\u0449\\u0430\\u043b\\u043e\\u0441\\u044c, \\u0447\\u0442\\u043e \\u043f\\u043e \\u043c\\u043e\\u0435\\u043c\\u0443 \\u0437\\u0430\\u044f\\u0432\\u043b\\u0435\\u043d\\u0438\\u044e \\u0431\\u044b\\u043b\\u043e \\u043f\\u0440\\u043e\\u0432\\u0435\\u0434\\u0435\\u043d\\u043e \\u043f\\u0440\\u0435\\u0434\\u0432\\u0430\\u0440\\u0438\\u0442\\u0435\\u043b\\u044c\\u043d\\u043e\\u0435 \\u0440\\u0430\\u0441\\u0441\\u043b\\u0435\\u0434\\u043e\\u0432\\u0430\\u043d\\u0438\\u0435, \\u0432 \\u0440\\u0435\\u0437\\u0443\\u043b\\u044c\\u0442\\u0430\\u0442\\u0435 \\u043a\\u043e\\u0442\\u043e\\u0440\\u043e\\u0433\\u043e \\u0434\\u0435\\u043d\\u044c\\u0433\\u0438 \\u043d\\u0430\\u0439\\u0434\\u0435\\u043d\\u044b \\u043d\\u0435 \\u0431\\u044b\\u043b\\u0438, \\u0438 \\u0447\\u0442\\u043e \\u0431\\u0430\\u043d\\u043a\\u043e\\u043c \\u0431\\u0443\\u0434\\u0435\\u0442 \\u0438\\u043d\\u0438\\u0446\\u0438\\u0438\\u0440\\u043e\\u0432\\u0430\\u043d\\u043e \\u0434\\u043e\\u043f\\u043e\\u043b\\u043d\\u0438\\u0442\\u0435\\u043b\\u044c\\u043d\\u043e\\u0435 \\u0440\\u0430\\u0441\\u0441\\u043b\\u0435\\u0434\\u043e\\u0432\\u0430\\u043d\\u0438\\u0435 \\u0432 \\u0441\\u0440\\u043e\\u043a \\u0434\\u043e 30 \\u0434\\u043d\\u0435\\u0439. \\u042f \\u0441\\u043d\\u043e\\u0432\\u0430 \\u043e\\u0431\\u0440\\u0430\\u0442\\u0438\\u043b\\u0441\\u044f \\u0432 \\u0421\\u0438\\u0442\\u0438\\u0444\\u043e\\u043d \\u0441 \\u043f\\u0440\\u043e\\u0441\\u044c\\u0431\\u043e\\u0439 \\u043e\\u0431\\u044a\\u044f\\u0441\\u043d\\u0438\\u0442\\u044c \\u043f\\u0440\\u0438\\u0447\\u0438\\u043d\\u0443 \\u043e\\u0442\\u0440\\u0438\\u0446\\u0430\\u0442\\u0435\\u043b\\u044c\\u043d\\u043e\\u0433\\u043e \\u043e\\u0442\\u0432\\u0435\\u0442\\u0430 \\u043f\\u043e \\u043c\\u043e\\u0435\\u043c\\u0443 \\u0437\\u0430\\u044f\\u0432\\u043b\\u0435\\u043d\\u0438\\u044e, \\u0442\\u0430\\u043a \\u043a\\u0430\\u043a \\u043e\\u0447\\u0435\\u0432\\u0438\\u0434\\u043d\\u043e, \\u0447\\u0442\\u043e \\u0438\\u043d\\u043a\\u0430\\u0441\\u0441\\u0430\\u0446\\u0438\\u044f \\u0431\\u0430\\u043d\\u043a\\u043e\\u043c\\u0430\\u0442\\u0430 \\u0443\\u0436\\u0435 \\u0441\\u043e\\u0441\\u0442\\u043e\\u044f\\u043b\\u0430\\u0441\\u044c, \\u043d\\u043e \\u043d\\u0430 \\u0432\\u0441\\u0435 \\u043c\\u043e\\u0438 \\u0432\\u043e\\u043f\\u0440\\u043e\\u0441\\u044b \\u0441\\u043e\\u0442\\u0440\\u0443\\u0434\\u043d\\u0438\\u043a \\u0431\\u0430\\u043d\\u043a\\u0430 \\u043e\\u0442\\u0432\\u0435\\u0447\\u0430\\u043b, \\u0447\\u0442\\u043e \\u0442\\u0430\\u043a\\u0438\\u0445 \\u0434\\u0430\\u043d\\u043d\\u044b\\u0445 \\u0431\\u0430\\u043d\\u043a \\u043f\\u0440\\u0435\\u0434\\u043e\\u0441\\u0442\\u0430\\u0432\\u0438\\u0442\\u044c \\u043d\\u0435 \\u043c\\u043e\\u0436\\u0435\\u0442.  \\u042f \\u044f\\u0432\\u043b\\u044f\\u044e\\u0441\\u044c \\u043a\\u043b\\u0438\\u0435\\u043d\\u0442\\u043e\\u043c \\u0421\\u0438\\u0442\\u0438\\u0431\\u0430\\u043d\\u043a\\u0430 \\u043e\\u043a\\u043e\\u043b\\u043e 10 \\u043b\\u0435\\u0442 \\u0438 \\u043f\\u0435\\u0440\\u0432\\u044b\\u0439 \\u0440\\u0430\\u0437 \\u0441\\u0442\\u0430\\u043b\\u043a\\u0438\\u0432\\u0430\\u044e\\u0441\\u044c \\u0441 \\u0442\\u0430\\u043a\\u0438\\u043c \\u0432\\u043e\\u043f\\u0438\\u044e\\u0449\\u0438\\u043c \\u0441\\u043b\\u0443\\u0447\\u0430\\u0435\\u043c \\u043f\\u0440\\u043e\\u044f\\u0432\\u043b\\u0435\\u043d\\u0438\\u044f \\u043d\\u0435\\u043f\\u0440\\u043e\\u0444\\u0435\\u0441\\u0441\\u0438\\u043e\\u043d\\u0430\\u043b\\u0438\\u0437\\u043c\\u0430. \\u0412 \\u043e\\u0442\\u0434\\u0435\\u043b\\u0435\\u043d\\u0438\\u0438 \\u0443\\u0441\\u0442\\u0430\\u043d\\u043e\\u0432\\u043b\\u0435\\u043d\\u043e \\u043d\\u0435\\u0441\\u043a\\u043e\\u043b\\u044c\\u043a\\u043e \\u043a\\u0430\\u043c\\u0435\\u0440, \\u043a\\u0430\\u043a \\u0432 \\u0431\\u0430\\u043d\\u043a\\u043e\\u043c\\u0430\\u0442\\u043d\\u043e\\u0439 \\u0437\\u043e\\u043d\\u0435, \\u0442\\u0430\\u043a \\u0438 \\u043d\\u0430 \\u0441\\u0430\\u043c\\u0438\\u0445 \\u0431\\u0430\\u043d\\u043a\\u043e\\u043c\\u0430\\u0442\\u0430\\u0445. \\u0427\\u0442\\u043e\\u0431\\u044b \\u043f\\u0440\\u043e\\u0432\\u0435\\u0440\\u0438\\u0442\\u044c \\u0434\\u0430\\u043d\\u043d\\u044b\\u0435 \\u043a\\u0430\\u043c\\u0435\\u0440, \\u0434\\u043e\\u0441\\u0442\\u0430\\u0442\\u043e\\u0447\\u043d\\u043e \\u043e\\u0434\\u043d\\u043e\\u0433\\u043e-\\u0434\\u0432\\u0443\\u0445 \\u0434\\u043d\\u0435\\u0439. \\u0414\\u0430\\u043d\\u043d\\u0443\\u044e \\u0441\\u0438\\u0442\\u0443\\u0430\\u0446\\u0438\\u044e \\u0440\\u0430\\u0441\\u0446\\u0435\\u043d\\u0438\\u0432\\u0430\\u044e \\u043a\\u0430\\u043a \\u043d\\u0435\\u0437\\u0430\\u043a\\u043e\\u043d\\u043d\\u043e\\u0435 \\u0443\\u0434\\u0435\\u0440\\u0436\\u0430\\u043d\\u0438\\u0435 \\u0431\\u0430\\u043d\\u043a\\u043e\\u043c \\u043c\\u043e\\u0438\\u0445 \\u043b\\u0438\\u0447\\u043d\\u044b\\u0445 \\u0441\\u0440\\u0435\\u0434\\u0441\\u0442\\u0432.\",\n          \"\\u0418\\u0441\\u0442\\u043e\\u0440\\u0438\\u044f \\u043e\\u0447\\u0435\\u043d\\u044c \\u0434\\u043e\\u043b\\u0433\\u0430\\u044f! \\u041f\\u0440\\u0438\\u0448\\u0435\\u043b \\u044f \\u0432 \\u0431\\u0430\\u043d\\u043a (\\u044d\\u0442\\u043e \\u0440\\u0430\\u0437) 6 \\u043c\\u0430\\u044f\\u0437\\u0430\\u043a\\u0440\\u044b\\u0432\\u0430\\u0442\\u044c \\u043a\\u0430\\u0440\\u0442\\u0443 (\\u041f\\u0435\\u0440\\u0435\\u0434 \\u044d\\u0442\\u0438\\u043c \\u043d\\u0435 \\u043f\\u0440\\u043e\\u0432\\u043e\\u0434\\u0438\\u043b \\u043d\\u0435 \\u043e\\u0434\\u043d\\u0443 \\u043e\\u043f\\u0435\\u0440\\u0430\\u0446\\u0438\\u044e \\u0432 \\u0442\\u0435\\u0447\\u0435\\u043d\\u0438\\u0438 \\u0434\\u043d\\u0435\\u0439 15-\\u0442\\u0438(\\u0434\\u0430 \\u0438 \\u0435\\u0449\\u0435, \\u0441\\u0430\\u043c\\u0430 \\u043a\\u0430\\u0440\\u0442\\u0430 \\u0431\\u044b\\u043b\\u0430 \\u043f\\u0435\\u0440\\u0435\\u0434\\u0430\\u043d\\u0430 \\u043d\\u0430 \\u0443\\u043d\\u0438\\u0447\\u0442\\u043e\\u0436\\u0435\\u043d\\u0438\\u044f \\u0438 \\u043f\\u043e\\u0440\\u0435\\u0437\\u0430\\u043d\\u0430 \\u043f\\u0440\\u0438 \\u043c\\u043d\\u0435 18 \\u043c\\u0430\\u0440\\u0442\\u0430, \\u0432 \\u043f\\u0435\\u0440\\u0432\\u044b\\u0439 \\u0440\\u0430\\u0437 \\u0434\\u0435\\u043d\\u044c\\u0433\\u0438 \\u043d\\u0435 \\u043c\\u043e\\u0433\\u043b\\u0438 \\u0432\\u044b\\u0434\\u0430\\u0442\\u044c \\u0447\\u0435\\u0440\\u0435\\u0437 \\u043a\\u0430\\u0441\\u0441\\u0443 \\u0432 \\u0441\\u0432\\u044f\\u0437\\u0438 \\u0441 \\u0442\\u0435\\u0445\\u043d\\u0438\\u0447\\u0435\\u0441\\u043a\\u043e\\u0439 \\u043e\\u0448\\u0438\\u0431\\u043a\\u043e\\u0439 \\u043f\\u0435\\u0440\\u0435\\u0432\\u0435\\u043b\\u0438 \\u043d\\u0430 \\u0434\\u0440\\u0443\\u0433\\u0443\\u044e \\u043a\\u0430\\u0440\\u0442\\u0443 \\u0441\\u0431\\u0435\\u0440\\u0431\\u0430\\u043d\\u043a\\u0430 \\u0438 \\u0441\\u0447\\u0435\\u0442 \\u0441\\u0442\\u043e\\u044f\\u043b \\u043d\\u0430 \\u0437\\u0430\\u043a\\u0440\\u044b\\u0442\\u0438\\u0438 45 \\u0434\\u043d\\u0435\\u0439, \\u043f\\u043e\\u0442\\u043e\\u043c\\u00a0 \\u0442\\u0430\\u043c \\u043d\\u0430 \\u0441\\u0447\\u0435\\u0442 \\u043a\\u0430\\u0440\\u0442\\u044b \\u043f\\u043e\\u0441\\u0442\\u0443\\u043f\\u0438\\u043b\\u0430 \\u0441\\u0443\\u043c\\u043c\\u0430 \\u043d\\u0435\\u0437\\u0430\\u043f\\u043b\\u0430\\u0447\\u0435\\u043d\\u043d\\u0430\\u044f \\u0440\\u0430\\u043d\\u0435\\u0435 (\\u0437\\u0430\\u0440\\u043f\\u043b\\u0430\\u0442\\u0430) \\u0438 \\u0441\\u0447\\u0435\\u0442 \\u043a\\u0430\\u0440\\u0442\\u044b \\u0441\\u043d\\u043e\\u0432\\u0430 \\u0441\\u0442\\u0430\\u043b \\u0434\\u0435\\u0439\\u0441\\u0442\\u0432\\u0438\\u0442\\u0435\\u043b\\u0435\\u043d). \\u041a\\u0430\\u0440\\u0430\\u0442\\u0430 \\u0437\\u0430\\u0440\\u043f\\u043b\\u0430\\u0442\\u043d\\u0430\\u044f, \\u0432\\u043e-\\u043f\\u0435\\u0440\\u0432\\u044b\\u0445, \\u0447\\u0442\\u043e\\u0431\\u044b \\u043f\\u0440\\u043e\\u0432\\u0435\\u0440\\u0438\\u0442\\u044c \\u043c\\u043e\\u0439 \\u0431\\u0430\\u043b\\u0430\\u043d\\u0441 \\u043f\\u043e \\u043a\\u0430\\u0440\\u0442\\u0435 \\u043d\\u0430\\u0434\\u043e \\u0441\\u0434\\u0435\\u043b\\u0430\\u0442\\u044c \\u0437\\u0430\\u043f\\u0440\\u043e\\u0441 \\u0432 \\u041c\\u043e\\u0441\\u043a\\u0432\\u0443 \\u2013 \\u044d\\u0442\\u043e \\u043e\\u0434\\u043d\\u0438 \\u0441\\u0443\\u0442\\u043a\\u0438, \\u043c\\u044b \\u0432\\u0430\\u043c \\u043f\\u0435\\u0440\\u0435\\u0437\\u0432\\u043e\\u043d\\u0438\\u043c, \\u0441\\u043a\\u0430\\u0437\\u0430\\u043b\\u0438 \\u043e\\u043d\\u0438. \\u0417\\u0432\\u043e\\u043d\\u043a\\u0430 \\u043d\\u0435 \\u0431\\u044b\\u043b\\u043e, \\u043f\\u043e\\u0437\\u0432\\u043e\\u043d\\u0438\\u043b \\u0441\\u0430\\u043c. \\u0421\\u043a\\u0430\\u0437\\u0430\\u043b\\u0438 \\u043e\\u0436\\u0438\\u0434\\u0430\\u0439\\u0442\\u0435 \\u0437\\u0432\\u043e\\u043d\\u043a\\u0430 \\u043c\\u0435\\u043d\\u0435\\u0434\\u0436\\u0435\\u0440\\u0430 10 \\u043c\\u0438\\u043d\\u0443\\u0442. \\u0418\\u0434\\u0443 \\u044f \\u0432 \\u043e\\u0442\\u0434\\u0435\\u043b\\u0435\\u043d\\u0438\\u0435 8 \\u043c\\u0430\\u044f \\u0447\\u0435\\u0440\\u0435\\u0437 4 \\u0447\\u0430\\u0441\\u0430 (\\u044d\\u0442\\u043e \\u0432\\u0442\\u043e\\u0440\\u043e\\u0439 \\u043f\\u043e\\u0445\\u043e\\u0434), \\u0437\\u0432\\u043e\\u043d\\u043a\\u0430 \\u0442\\u043e \\u043d\\u0435 \\u0431\\u044b\\u043b\\u043e. \\u0413\\u043e\\u0432\\u043e\\u0440\\u044f\\u0442 \\u2013 \\u041e\\u0442\\u0432\\u0435\\u0442 \\u043d\\u0435 \\u043f\\u043e\\u0441\\u0442\\u0443\\u043f\\u0438\\u043b, \\u0431\\u0443\\u0434\\u0435\\u043c \\u0441\\u043b\\u0435\\u0434\\u043e\\u0432\\u0430\\u0442\\u044c \\u0438\\u043d\\u0441\\u0442\\u0440\\u0443\\u043a\\u0446\\u0438\\u044f\\u043c. \\u0427\\u0435\\u0440\\u0435\\u0437 \\u043a\\u0430\\u0441\\u0441\\u0443 \\u043e\\u0441\\u0442\\u0430\\u0442\\u043e\\u043a \\u043f\\u043e\\u043b\\u0443\\u0447\\u0438\\u0442\\u044c \\u043d\\u0435\\u0432\\u043e\\u0437\\u043c\\u043e\\u0436\\u043d\\u043e=160,50 \\u043a\\u043e\\u043f\\u0435\\u0435\\u043a \\u044d\\u0442\\u043e \\u0436\\u0435 \\u0441\\u0432\\u0435\\u0440\\u0445\\u00a0\\u0441\\u0443\\u043c\\u043c\\u0430, \\u043d\\u0430\\u043f\\u0438\\u0441\\u0430\\u043b \\u0437\\u0430\\u044f\\u0432\\u043b\\u0435\\u043d\\u0438\\u0435 \\u043d\\u0430 \\u043f\\u0435\\u0440\\u0435\\u0432\\u043e\\u0434 \\u0441 \\u043a\\u0430\\u0440\\u0442\\u044b \\u043d\\u0430 \\u043a\\u0430\\u0440\\u0442\\u0443 \\u0434\\u0440\\u0443\\u0433\\u043e\\u0433\\u043e \\u0431\\u0430\\u043d\\u043a\\u0430 \\u0438\\u0437\\u0430\\u044f\\u0432\\u043b\\u0435\\u043d\\u0438\\u0435 \\u043d\\u0430 \\u0437\\u0430\\u043a\\u0440\\u044b\\u0442\\u0438\\u0435 \\u043a\\u0430\\u0440\\u0442\\u044b (\\u043a\\u043e\\u0442\\u043e\\u0440\\u043e\\u0439 \\u043d\\u0435\\u0442\\u0443), \\u0437\\u0430\\u044f\\u0432\\u043b\\u0435\\u043d\\u0438\\u044f \\u0437\\u0430\\u0432\\u0435\\u0440\\u044f\\u044e\\u0442 \\u043f\\u0435\\u0447\\u0430\\u0442\\u044f\\u043c\\u0438, \\u0447\\u0442\\u043e \\u043f\\u0440\\u0438\\u043d\\u044f\\u043b\\u0438. \\u0417\\u0432\\u043e\\u043d\\u044e 8 \\u0438\\u044e\\u043d\\u044f \\u0432 \\u0431\\u0430\\u043d\\u043a \\u0441\\u043f\\u0440\\u0430\\u0448\\u0438\\u0432\\u0430\\u044e \\u0437\\u0430\\u044f\\u0432\\u043b\\u0435\\u043d\\u0438\\u0435 \\u043d\\u0430\\u043f\\u0438\\u0441\\u0430\\u043b, \\u0441\\u043a\\u0430\\u0437\\u0430\\u043b\\u0438 \\u043c\\u043e\\u0436\\u0435\\u0442 \\u043f\\u0435\\u0440\\u0435\\u0432\\u043e\\u0434\\u0438\\u0442\\u044c\\u0441\\u044f 2 \\u043d\\u0435\\u0434\\u0435\\u043b\\u0438, \\u0443\\u0436\\u0435 \\u043f\\u0440\\u043e\\u0448\\u0435\\u043b \\u043c\\u0435\\u0441\\u044f\\u0446, \\u0434\\u0435\\u043d\\u0435\\u0433 \\u043d\\u0435\\u0442\\u0443. \\u041d\\u0430 \\u0447\\u0442\\u043e \\u043c\\u043d\\u0435 \\u043e\\u0442\\u0432\\u0435\\u0447\\u0430\\u044e\\u0442, \\u0447\\u0442\\u043e \\u0432\\u0430\\u043c \\u043d\\u0443\\u0436\\u043d\\u043e \\u043f\\u0440\\u0438\\u0435\\u0445\\u0430\\u0442\\u044c \\u0432 \\u0431\\u0430\\u043d\\u043a (\\u0432 \\u0442\\u0440\\u0435\\u0442\\u0438\\u0439 \\u0440\\u0430\\u0437), \\u043c\\u043e\\u0433\\u043b\\u0430 \\u0431\\u044b\\u0442\\u044c \\u0442\\u0435\\u0445\\u043d\\u0438\\u0447\\u0435\\u0441\\u043a\\u0430\\u044f \\u043e\\u0448\\u0438\\u0431\\u043a\\u0430. \\u0412 \\u0441\\u0440\\u0435\\u0434\\u043d\\u0435\\u043c, \\u0447\\u0442\\u043e\\u0431\\u044b \\u0434\\u043e\\u0431\\u0440\\u0430\\u0442\\u044c\\u0441\\u044f \\u0434\\u043e \\u0431\\u0430\\u043d\\u043a\\u0430 \\u044f \\u0442\\u0440\\u0430\\u0447\\u0443 40\\u0440*3=120\\u0440. \\u0421\\u043a\\u0430\\u0436\\u0438\\u0442\\u0435 \\u0432\\u0430\\u0448\\u0443 \\u043c***, \\u0435\\u0441\\u043b\\u0438 \\u0443 \\u0432\\u0430\\u0441 \\u043e\\u0448\\u0438\\u0431\\u043a\\u0438 \\u0438 \\u0441\\u0431\\u043e\\u0438 \\u0442\\u0435\\u0445\\u043d\\u0438\\u0447\\u0435\\u0441\\u043a\\u0438\\u0435, \\u043c\\u0435\\u043d\\u044f \\u0434\\u043e\\u043b\\u0436\\u043d\\u043e \\u043b\\u0438 \\u044d\\u0442\\u043e *\\u0432\\u043e\\u043b\\u043d\\u043e\\u0432\\u0430\\u0442\\u044c? \\u0418 \\u043a\\u0430\\u043a\\u043e\\u0433\\u043e \\u0424\\u0438\\u0433\\u0430 \\u044f \\u0434\\u043e\\u0436\\u0436\\u0435\\u043d \\u0435\\u0437\\u0434\\u0438\\u0442\\u044c \\u043f\\u043e\\u0441\\u0442\\u043e\\u044f\\u043d\\u043d\\u043e \\u0432 \\u0431\\u0430\\u043d\\u043a \\u0438\\u0437-\\u0437\\u0430 \\u0412\\u0430\\u0441!!! \\u0423\\u0436\\u0430\\u0441\\u043d\\u043e \\u043f\\u0440\\u043e\\u0441\\u0442\\u043e \\u0443\\u0436\\u0430\\u0441\\u043d\\u043e!!!\"\n        ],\n        \"semantic_type\": \"\",\n        \"description\": \"\"\n      }\n    },\n    {\n      \"column\": \"label\",\n      \"properties\": {\n        \"dtype\": \"number\",\n        \"std\": 0,\n        \"min\": 0,\n        \"max\": 1,\n        \"num_unique_values\": 2,\n        \"samples\": [\n          0,\n          1\n        ],\n        \"semantic_type\": \"\",\n        \"description\": \"\"\n      }\n    }\n  ]\n}"
            }
          },
          "metadata": {},
          "execution_count": 22
        }
      ]
    },
    {
      "cell_type": "markdown",
      "source": [
        "У нас есть:\n",
        "\n",
        "72307 негативных отзывов\n",
        "\n",
        "26715 положительных отзывов\n",
        "\n",
        "Чтобы ускорить обработку, возьмём:\n",
        "\n",
        "по 5000 негативных\n",
        "\n",
        "по 5000 положительных"
      ],
      "metadata": {
        "id": "8rd_bgQvG-PI"
      }
    },
    {
      "cell_type": "code",
      "source": [
        "# 🔹 Балансируем классы и сокращаем до 20–25% от датасета\n",
        "n_samples = 5000\n",
        "\n",
        "negatives = df_filtered[df_filtered[\"label\"] == 0].sample(n=n_samples, random_state=42)\n",
        "positives = df_filtered[df_filtered[\"label\"] == 1].sample(n=n_samples, random_state=42)\n",
        "\n",
        "# 🔹 Объединяем и перемешиваем\n",
        "df_binary = pd.concat([negatives, positives]).sample(frac=1, random_state=42).reset_index(drop=True)\n",
        "\n",
        "# 📊 Проверка\n",
        "print(df_binary[\"label\"].value_counts())\n",
        "df_binary[[\"text\", \"label\"]].head(3)\n"
      ],
      "metadata": {
        "colab": {
          "base_uri": "https://localhost:8080/",
          "height": 215
        },
        "id": "Gi2-RnvmHCxt",
        "outputId": "935ddfce-61e0-4405-ca5b-ed7ab9ae25cb"
      },
      "execution_count": 23,
      "outputs": [
        {
          "output_type": "stream",
          "name": "stdout",
          "text": [
            "label\n",
            "1    5000\n",
            "0    5000\n",
            "Name: count, dtype: int64\n"
          ]
        },
        {
          "output_type": "execute_result",
          "data": {
            "text/plain": [
              "                                                text  label\n",
              "0  Добрый день! На протяжении почти двух лет регу...      1\n",
              "1  Моей маме (ей 81 год, очень больная, еле ходит...      0\n",
              "2  Четвёртый день заблокирован кошелёк. Использую...      0"
            ],
            "text/html": [
              "\n",
              "  <div id=\"df-25f2220d-2fa5-4583-9535-880d3b798279\" class=\"colab-df-container\">\n",
              "    <div>\n",
              "<style scoped>\n",
              "    .dataframe tbody tr th:only-of-type {\n",
              "        vertical-align: middle;\n",
              "    }\n",
              "\n",
              "    .dataframe tbody tr th {\n",
              "        vertical-align: top;\n",
              "    }\n",
              "\n",
              "    .dataframe thead th {\n",
              "        text-align: right;\n",
              "    }\n",
              "</style>\n",
              "<table border=\"1\" class=\"dataframe\">\n",
              "  <thead>\n",
              "    <tr style=\"text-align: right;\">\n",
              "      <th></th>\n",
              "      <th>text</th>\n",
              "      <th>label</th>\n",
              "    </tr>\n",
              "  </thead>\n",
              "  <tbody>\n",
              "    <tr>\n",
              "      <th>0</th>\n",
              "      <td>Добрый день! На протяжении почти двух лет регу...</td>\n",
              "      <td>1</td>\n",
              "    </tr>\n",
              "    <tr>\n",
              "      <th>1</th>\n",
              "      <td>Моей маме (ей 81 год, очень больная, еле ходит...</td>\n",
              "      <td>0</td>\n",
              "    </tr>\n",
              "    <tr>\n",
              "      <th>2</th>\n",
              "      <td>Четвёртый день заблокирован кошелёк. Использую...</td>\n",
              "      <td>0</td>\n",
              "    </tr>\n",
              "  </tbody>\n",
              "</table>\n",
              "</div>\n",
              "    <div class=\"colab-df-buttons\">\n",
              "\n",
              "  <div class=\"colab-df-container\">\n",
              "    <button class=\"colab-df-convert\" onclick=\"convertToInteractive('df-25f2220d-2fa5-4583-9535-880d3b798279')\"\n",
              "            title=\"Convert this dataframe to an interactive table.\"\n",
              "            style=\"display:none;\">\n",
              "\n",
              "  <svg xmlns=\"http://www.w3.org/2000/svg\" height=\"24px\" viewBox=\"0 -960 960 960\">\n",
              "    <path d=\"M120-120v-720h720v720H120Zm60-500h600v-160H180v160Zm220 220h160v-160H400v160Zm0 220h160v-160H400v160ZM180-400h160v-160H180v160Zm440 0h160v-160H620v160ZM180-180h160v-160H180v160Zm440 0h160v-160H620v160Z\"/>\n",
              "  </svg>\n",
              "    </button>\n",
              "\n",
              "  <style>\n",
              "    .colab-df-container {\n",
              "      display:flex;\n",
              "      gap: 12px;\n",
              "    }\n",
              "\n",
              "    .colab-df-convert {\n",
              "      background-color: #E8F0FE;\n",
              "      border: none;\n",
              "      border-radius: 50%;\n",
              "      cursor: pointer;\n",
              "      display: none;\n",
              "      fill: #1967D2;\n",
              "      height: 32px;\n",
              "      padding: 0 0 0 0;\n",
              "      width: 32px;\n",
              "    }\n",
              "\n",
              "    .colab-df-convert:hover {\n",
              "      background-color: #E2EBFA;\n",
              "      box-shadow: 0px 1px 2px rgba(60, 64, 67, 0.3), 0px 1px 3px 1px rgba(60, 64, 67, 0.15);\n",
              "      fill: #174EA6;\n",
              "    }\n",
              "\n",
              "    .colab-df-buttons div {\n",
              "      margin-bottom: 4px;\n",
              "    }\n",
              "\n",
              "    [theme=dark] .colab-df-convert {\n",
              "      background-color: #3B4455;\n",
              "      fill: #D2E3FC;\n",
              "    }\n",
              "\n",
              "    [theme=dark] .colab-df-convert:hover {\n",
              "      background-color: #434B5C;\n",
              "      box-shadow: 0px 1px 3px 1px rgba(0, 0, 0, 0.15);\n",
              "      filter: drop-shadow(0px 1px 2px rgba(0, 0, 0, 0.3));\n",
              "      fill: #FFFFFF;\n",
              "    }\n",
              "  </style>\n",
              "\n",
              "    <script>\n",
              "      const buttonEl =\n",
              "        document.querySelector('#df-25f2220d-2fa5-4583-9535-880d3b798279 button.colab-df-convert');\n",
              "      buttonEl.style.display =\n",
              "        google.colab.kernel.accessAllowed ? 'block' : 'none';\n",
              "\n",
              "      async function convertToInteractive(key) {\n",
              "        const element = document.querySelector('#df-25f2220d-2fa5-4583-9535-880d3b798279');\n",
              "        const dataTable =\n",
              "          await google.colab.kernel.invokeFunction('convertToInteractive',\n",
              "                                                    [key], {});\n",
              "        if (!dataTable) return;\n",
              "\n",
              "        const docLinkHtml = 'Like what you see? Visit the ' +\n",
              "          '<a target=\"_blank\" href=https://colab.research.google.com/notebooks/data_table.ipynb>data table notebook</a>'\n",
              "          + ' to learn more about interactive tables.';\n",
              "        element.innerHTML = '';\n",
              "        dataTable['output_type'] = 'display_data';\n",
              "        await google.colab.output.renderOutput(dataTable, element);\n",
              "        const docLink = document.createElement('div');\n",
              "        docLink.innerHTML = docLinkHtml;\n",
              "        element.appendChild(docLink);\n",
              "      }\n",
              "    </script>\n",
              "  </div>\n",
              "\n",
              "\n",
              "    <div id=\"df-63bcae01-9977-4e2c-a3cc-1d0eb7017602\">\n",
              "      <button class=\"colab-df-quickchart\" onclick=\"quickchart('df-63bcae01-9977-4e2c-a3cc-1d0eb7017602')\"\n",
              "                title=\"Suggest charts\"\n",
              "                style=\"display:none;\">\n",
              "\n",
              "<svg xmlns=\"http://www.w3.org/2000/svg\" height=\"24px\"viewBox=\"0 0 24 24\"\n",
              "     width=\"24px\">\n",
              "    <g>\n",
              "        <path d=\"M19 3H5c-1.1 0-2 .9-2 2v14c0 1.1.9 2 2 2h14c1.1 0 2-.9 2-2V5c0-1.1-.9-2-2-2zM9 17H7v-7h2v7zm4 0h-2V7h2v10zm4 0h-2v-4h2v4z\"/>\n",
              "    </g>\n",
              "</svg>\n",
              "      </button>\n",
              "\n",
              "<style>\n",
              "  .colab-df-quickchart {\n",
              "      --bg-color: #E8F0FE;\n",
              "      --fill-color: #1967D2;\n",
              "      --hover-bg-color: #E2EBFA;\n",
              "      --hover-fill-color: #174EA6;\n",
              "      --disabled-fill-color: #AAA;\n",
              "      --disabled-bg-color: #DDD;\n",
              "  }\n",
              "\n",
              "  [theme=dark] .colab-df-quickchart {\n",
              "      --bg-color: #3B4455;\n",
              "      --fill-color: #D2E3FC;\n",
              "      --hover-bg-color: #434B5C;\n",
              "      --hover-fill-color: #FFFFFF;\n",
              "      --disabled-bg-color: #3B4455;\n",
              "      --disabled-fill-color: #666;\n",
              "  }\n",
              "\n",
              "  .colab-df-quickchart {\n",
              "    background-color: var(--bg-color);\n",
              "    border: none;\n",
              "    border-radius: 50%;\n",
              "    cursor: pointer;\n",
              "    display: none;\n",
              "    fill: var(--fill-color);\n",
              "    height: 32px;\n",
              "    padding: 0;\n",
              "    width: 32px;\n",
              "  }\n",
              "\n",
              "  .colab-df-quickchart:hover {\n",
              "    background-color: var(--hover-bg-color);\n",
              "    box-shadow: 0 1px 2px rgba(60, 64, 67, 0.3), 0 1px 3px 1px rgba(60, 64, 67, 0.15);\n",
              "    fill: var(--button-hover-fill-color);\n",
              "  }\n",
              "\n",
              "  .colab-df-quickchart-complete:disabled,\n",
              "  .colab-df-quickchart-complete:disabled:hover {\n",
              "    background-color: var(--disabled-bg-color);\n",
              "    fill: var(--disabled-fill-color);\n",
              "    box-shadow: none;\n",
              "  }\n",
              "\n",
              "  .colab-df-spinner {\n",
              "    border: 2px solid var(--fill-color);\n",
              "    border-color: transparent;\n",
              "    border-bottom-color: var(--fill-color);\n",
              "    animation:\n",
              "      spin 1s steps(1) infinite;\n",
              "  }\n",
              "\n",
              "  @keyframes spin {\n",
              "    0% {\n",
              "      border-color: transparent;\n",
              "      border-bottom-color: var(--fill-color);\n",
              "      border-left-color: var(--fill-color);\n",
              "    }\n",
              "    20% {\n",
              "      border-color: transparent;\n",
              "      border-left-color: var(--fill-color);\n",
              "      border-top-color: var(--fill-color);\n",
              "    }\n",
              "    30% {\n",
              "      border-color: transparent;\n",
              "      border-left-color: var(--fill-color);\n",
              "      border-top-color: var(--fill-color);\n",
              "      border-right-color: var(--fill-color);\n",
              "    }\n",
              "    40% {\n",
              "      border-color: transparent;\n",
              "      border-right-color: var(--fill-color);\n",
              "      border-top-color: var(--fill-color);\n",
              "    }\n",
              "    60% {\n",
              "      border-color: transparent;\n",
              "      border-right-color: var(--fill-color);\n",
              "    }\n",
              "    80% {\n",
              "      border-color: transparent;\n",
              "      border-right-color: var(--fill-color);\n",
              "      border-bottom-color: var(--fill-color);\n",
              "    }\n",
              "    90% {\n",
              "      border-color: transparent;\n",
              "      border-bottom-color: var(--fill-color);\n",
              "    }\n",
              "  }\n",
              "</style>\n",
              "\n",
              "      <script>\n",
              "        async function quickchart(key) {\n",
              "          const quickchartButtonEl =\n",
              "            document.querySelector('#' + key + ' button');\n",
              "          quickchartButtonEl.disabled = true;  // To prevent multiple clicks.\n",
              "          quickchartButtonEl.classList.add('colab-df-spinner');\n",
              "          try {\n",
              "            const charts = await google.colab.kernel.invokeFunction(\n",
              "                'suggestCharts', [key], {});\n",
              "          } catch (error) {\n",
              "            console.error('Error during call to suggestCharts:', error);\n",
              "          }\n",
              "          quickchartButtonEl.classList.remove('colab-df-spinner');\n",
              "          quickchartButtonEl.classList.add('colab-df-quickchart-complete');\n",
              "        }\n",
              "        (() => {\n",
              "          let quickchartButtonEl =\n",
              "            document.querySelector('#df-63bcae01-9977-4e2c-a3cc-1d0eb7017602 button');\n",
              "          quickchartButtonEl.style.display =\n",
              "            google.colab.kernel.accessAllowed ? 'block' : 'none';\n",
              "        })();\n",
              "      </script>\n",
              "    </div>\n",
              "    </div>\n",
              "  </div>\n"
            ],
            "application/vnd.google.colaboratory.intrinsic+json": {
              "type": "dataframe",
              "summary": "{\n  \"name\": \"df_binary[[\\\"text\\\", \\\"label\\\"]]\",\n  \"rows\": 3,\n  \"fields\": [\n    {\n      \"column\": \"text\",\n      \"properties\": {\n        \"dtype\": \"string\",\n        \"num_unique_values\": 3,\n        \"samples\": [\n          \"\\u0414\\u043e\\u0431\\u0440\\u044b\\u0439 \\u0434\\u0435\\u043d\\u044c! \\u041d\\u0430 \\u043f\\u0440\\u043e\\u0442\\u044f\\u0436\\u0435\\u043d\\u0438\\u0438 \\u043f\\u043e\\u0447\\u0442\\u0438 \\u0434\\u0432\\u0443\\u0445 \\u043b\\u0435\\u0442 \\u0440\\u0435\\u0433\\u0443\\u043b\\u044f\\u0440\\u043d\\u043e \\u043e\\u0431\\u0441\\u043b\\u0443\\u0436\\u0438\\u0432\\u0430\\u044e\\u0441\\u044c \\u0432 \\u0431\\u0430\\u043d\\u043a\\u0435 \\u00ab\\u041f\\u0435\\u0440\\u0432\\u044b\\u0439 \\u0420\\u0435\\u0441\\u043f\\u0443\\u0431\\u043b\\u0438\\u043a\\u0430\\u043d\\u0441\\u043a\\u0438\\u0439 \\u0431\\u0430\\u043d\\u043a\\u00bb, \\u043e\\u0442\\u0434\\u0435\\u043b\\u0435\\u043d\\u0438\\u0435 \\u043d\\u0430 \\u041d\\u043e\\u0432\\u0438\\u043d\\u0441\\u043a\\u043e\\u043c \\u0431\\u0443\\u043b\\u044c\\u0432\\u0430\\u0440\\u0435 (\\u0433. \\u041c\\u043e\\u0441\\u043a\\u0432\\u0430). \\u0414\\u0430\\u043d\\u043d\\u044b\\u0439 \\u0431\\u0430\\u043d\\u043a \\u0438 \\u0434\\u0430\\u043d\\u043d\\u043e\\u0435 \\u043e\\u0442\\u0434\\u0435\\u043b\\u0435\\u043d\\u0438\\u0435 \\u0431\\u044b\\u043b\\u0438 \\u0432\\u044b\\u0431\\u0440\\u0430\\u043d\\u044b \\u043c\\u043d\\u043e\\u044e \\u0438\\u0437\\u043d\\u0430\\u0447\\u0430\\u043b\\u044c\\u043d\\u043e \\u043f\\u043e \\u043f\\u0440\\u0438\\u0447\\u0438\\u043d\\u0435 \\u0431\\u043b\\u0438\\u0437\\u043e\\u0441\\u0442\\u0438 \\u043e\\u0442 \\u0434\\u043e\\u043c\\u0430, \\u043d\\u043e \\u043c\\u043e\\u0438 \\u0440\\u0435\\u0433\\u0443\\u043b\\u044f\\u0440\\u043d\\u044b\\u0435 \\u043f\\u043e\\u0441\\u0435\\u0449\\u0435\\u043d\\u0438\\u044f \\u043e\\u043d\\u0438 \\u0437\\u0430\\u0441\\u043b\\u0443\\u0436\\u0438\\u043b\\u0438 \\u0431\\u043b\\u0430\\u0433\\u043e\\u0434\\u0430\\u0440\\u044f \\u0432\\u044b\\u0441\\u043e\\u043a\\u043e\\u043c\\u0443 \\u043a\\u0430\\u0447\\u0435\\u0441\\u0442\\u0432\\u0443 \\u0440\\u0430\\u0431\\u043e\\u0442\\u044b \\u0438 \\u0445\\u043e\\u0440\\u043e\\u0448\\u0435\\u043c\\u0443 \\u0441\\u0435\\u0440\\u0432\\u0438\\u0441\\u0443. \\u041f\\u0440\\u0438\\u043c\\u0435\\u0440\\u043d\\u043e \\u0440\\u0430\\u0437-\\u0434\\u0432\\u0430 \\u0432 \\u043c\\u0435\\u0441\\u044f\\u0446 \\u044f \\u043f\\u043e\\u043b\\u044c\\u0437\\u0443\\u044e\\u0441\\u044c \\u0443\\u0441\\u043b\\u0443\\u0433\\u0430\\u043c\\u0438 \\u00ab\\u041f\\u0435\\u0440\\u0435\\u0432\\u043e\\u0434\\u044b \\u043f\\u043e \\u0441\\u0438\\u0441\\u0442\\u0435\\u043c\\u0435 \\u00ab\\u041a\\u043e\\u043d\\u0442\\u0430\\u043a\\u0442\\u00bb, \\u0434\\u0432\\u0430\\u0436\\u0434\\u044b \\u043e\\u0442\\u043a\\u0440\\u044b\\u0432\\u0430\\u043b\\u0430 \\u0432\\u043a\\u043b\\u0430\\u0434 \\u0432 \\u0434\\u0430\\u043d\\u043d\\u043e\\u043c \\u0431\\u0430\\u043d\\u043a\\u0435, \\u043f\\u0440\\u043e\\u0438\\u0437\\u0432\\u043e\\u0434\\u0438\\u043b\\u0430 \\u0434\\u0435\\u043d\\u0435\\u0436\\u043d\\u043e-\\u043e\\u0431\\u043c\\u0435\\u043d\\u043d\\u044b\\u0435 \\u043e\\u043f\\u0435\\u0440\\u0430\\u0446\\u0438\\u0438.  \\u041e\\u0441\\u043e\\u0431\\u0435\\u043d\\u043d\\u043e \\u0445\\u043e\\u0447\\u0443 \\u043e\\u0442\\u043c\\u0435\\u0442\\u0438\\u0442\\u044c \\u043e\\u0434\\u043d\\u043e\\u0433\\u043e \\u0438\\u0437 \\u0441\\u043e\\u0442\\u0440\\u0443\\u0434\\u043d\\u0438\\u043a\\u043e\\u0432 \\u2013 \\u041d\\u0430\\u0442\\u0430\\u043b\\u044c\\u044e \\u2013 \\u043a\\u0430\\u043a \\u043e\\u0442\\u0432\\u0435\\u0442\\u0441\\u0442\\u0432\\u0435\\u043d\\u043d\\u0443\\u044e, \\u0436\\u0438\\u0437\\u043d\\u0435\\u0440\\u0430\\u0434\\u043e\\u0441\\u0442\\u043d\\u0443\\u044e \\u0434\\u0435\\u0432\\u0443\\u0448\\u043a\\u0443, \\u0430 \\u0442\\u0430\\u043a\\u0436\\u0435 \\u043e\\u043f\\u044b\\u0442\\u043d\\u043e\\u0433\\u043e \\u0441\\u043f\\u0435\\u0446\\u0438\\u0430\\u043b\\u0438\\u0441\\u0442\\u0430. \\u0412\\u043d\\u0435 \\u0437\\u0430\\u0432\\u0438\\u0441\\u0438\\u043c\\u043e\\u0441\\u0442\\u0438 \\u043e\\u0442 \\u043e\\u0431\\u0441\\u0442\\u0430\\u043d\\u043e\\u0432\\u043a\\u0438 (\\u0432\\u0435\\u0447\\u0435\\u0440\\u043d\\u0435\\u0435 \\u0432\\u0440\\u0435\\u043c\\u044f, \\u0441\\u0443\\u0431\\u0431\\u043e\\u0442\\u043d\\u0438\\u0439 \\u0434\\u0435\\u043d\\u044c, \\u043f\\u0440\\u0435\\u0434\\u043f\\u0440\\u0430\\u0437\\u0434\\u043d\\u0438\\u0447\\u043d\\u044b\\u0439, \\u043d\\u0430\\u043b\\u0438\\u0447\\u0438\\u0435 \\u043e\\u0447\\u0435\\u0440\\u0435\\u0434\\u0438, \\u0437\\u0430\\u0432\\u0438\\u0441 \\u043a\\u043e\\u043c\\u043f\\u044c\\u044e\\u0442\\u0435\\u0440, \\u043a\\u0443\\u0447\\u0430 \\u043d\\u0430\\u0437\\u043e\\u0439\\u043b\\u0438\\u0432\\u044b\\u0445 \\u043f\\u043e\\u0441\\u0435\\u0442\\u0438\\u0442\\u0435\\u043b\\u0435\\u0439, \\u043a\\u043e\\u0442\\u043e\\u0440\\u044b\\u0435 \\u043d\\u0435 \\u0437\\u043d\\u0430\\u044e\\u0442, \\u0447\\u0435\\u0433\\u043e \\u0445\\u043e\\u0442\\u044f\\u0442 \\u0438 \\u043f\\u0440.) \\u043e\\u043d\\u0430 \\u0432\\u0441\\u0435\\u0433\\u0434\\u0430 \\u0443\\u043b\\u044b\\u0431\\u0430\\u0435\\u0442\\u0441\\u044f, \\u0432\\u0435\\u0434\\u0435\\u0442 \\u0441\\u0435\\u0431\\u044f \\u043e\\u0447\\u0435\\u043d\\u044c \\u0442\\u0430\\u043a\\u0442\\u0438\\u0447\\u043d\\u043e, \\u043c\\u0430\\u043a\\u0441\\u0438\\u043c\\u0430\\u043b\\u044c\\u043d\\u043e \\u043f\\u043e\\u0434\\u0440\\u043e\\u0431\\u043d\\u043e \\u0440\\u0430\\u0441\\u0441\\u043a\\u0430\\u0437\\u044b\\u0432\\u0430\\u0435\\u0442 \\u043e\\u0431 \\u0443\\u0441\\u043b\\u0443\\u0433\\u0430\\u0445 \\u0431\\u0430\\u043d\\u043a\\u0430, \\u0432\\u0441\\u0435 \\u043e\\u043f\\u0435\\u0440\\u0430\\u0446\\u0438\\u0438 \\u043f\\u0440\\u043e\\u0432\\u043e\\u0434\\u0438\\u0442 \\u0447\\u0435\\u0442\\u043a\\u043e \\u0438 \\u0431\\u044b\\u0441\\u0442\\u0440\\u043e, \\u043d\\u0438\\u043a\\u0430\\u043a\\u0438\\u0445 \\u0441\\u0431\\u043e\\u0435\\u0432 \\u0432 \\u0435\\u0435 \\u0440\\u0430\\u0431\\u043e\\u0442\\u0435 \\u043d\\u0435 \\u0431\\u044b\\u0432\\u0430\\u0435\\u0442. \\u0425\\u043e\\u0442\\u0435\\u043b\\u0430 \\u0431\\u044b \\u0435\\u0449\\u0435 \\u0440\\u0430\\u0437 \\u043f\\u043e\\u0431\\u043b\\u0430\\u0433\\u043e\\u0434\\u0430\\u0440\\u0438\\u0442\\u044c \\u041d\\u0430\\u0442\\u0430\\u043b\\u044c\\u044e, \\u0430 \\u0442\\u0430\\u043a\\u0436\\u0435 \\u043a\\u043e\\u043b\\u043b\\u0435\\u043a\\u0442\\u0438\\u0432 \\u00ab\\u041f\\u0435\\u0440\\u0432\\u043e\\u0433\\u043e \\u0420\\u0435\\u0441\\u043f\\u0443\\u0431\\u043b\\u0438\\u043a\\u0430\\u043d\\u0441\\u043a\\u043e\\u0433\\u043e \\u0431\\u0430\\u043d\\u043a\\u0430\\u00bb \\u043e\\u0442\\u0434\\u0435\\u043b\\u0435\\u043d\\u0438\\u0435 \\u00ab\\u041d\\u043e\\u0432\\u0438\\u043d\\u0441\\u043a\\u0438\\u0439 \\u0431\\u0443\\u043b\\u044c\\u0432\\u0430\\u0440\\u00bb \\u0437\\u0430 \\u0432\\u044b\\u0441\\u043e\\u043a\\u0438\\u0439 \\u0443\\u0440\\u043e\\u0432\\u0435\\u043d\\u044c \\u043e\\u0431\\u0441\\u043b\\u0443\\u0436\\u0438\\u0432\\u0430\\u043d\\u0438\\u044f! P.S. \\u0421\\u0447\\u0438\\u0442\\u0430\\u044e, \\u0447\\u0442\\u043e \\u041d\\u0430\\u0442\\u0430\\u043b\\u044c\\u044f \\u0434\\u043e\\u0441\\u0442\\u043e\\u0439\\u043d\\u0430 \\u043f\\u0440\\u0435\\u043c\\u0438\\u0438 \\u0438 \\u043f\\u043e\\u0432\\u044b\\u0448\\u0435\\u043d\\u0438\\u044f \\u043f\\u043e \\u0441\\u043b\\u0443\\u0436\\u0431\\u0435. \\u0421\\u043f\\u0430\\u0441\\u0438\\u0431\\u043e. \\u0421 \\u0443\\u0432\\u0430\\u0436\\u0435\\u043d\\u0438\\u0435\\u043c, \\u0412\\u0438\\u043a\\u0442\\u043e\\u0440\\u0438\\u044f \\u0428\\u0430\\u0445\\u043e\\u0432\\u0430. \\u0410\\u0434\\u043c\\u0438\\u043d:  \\u041a\\u043e\\u0433\\u0434\\u0430 \\u0438 \\u043a\\u0430\\u043a\\u0438\\u0435 \\u0432\\u043a\\u043b\\u0430\\u0434\\u044b \\u043e\\u0442\\u043a\\u0440\\u044b\\u0432\\u0430\\u043b\\u0438 \\u0432 \\u0431\\u0430\\u043d\\u043a\\u0435. \\u0420\\u0430\\u0441\\u0441\\u043a\\u0430\\u0436\\u0438\\u0442\\u0435 \\u043f\\u043e\\u0434\\u0440\\u043e\\u0431\\u043d\\u0435\\u0435, \\u043a\\u0430\\u043a \\u0441\\u043e\\u0442\\u0440\\u0443\\u0434\\u043d\\u0438\\u043a \\u0441\\u043f\\u0440\\u0430\\u0432\\u043b\\u044f\\u043b\\u0441\\u044f \\u0441 \\u043f\\u0440\\u043e\\u0431\\u043b\\u0435\\u043c\\u0430\\u043c\\u0438: \\\"\\u0437\\u0430\\u0432\\u0438\\u0441 \\u043a\\u043e\\u043c\\u043f\\u044c\\u044e\\u0442\\u0435\\u0440, \\u043d\\u0430\\u043b\\u0438\\u0447\\u0438\\u0435 \\u043e\\u0447\\u0435\\u0440\\u0435\\u0434\\u0438...\",\n          \"\\u041c\\u043e\\u0435\\u0439 \\u043c\\u0430\\u043c\\u0435 (\\u0435\\u0439 81 \\u0433\\u043e\\u0434, \\u043e\\u0447\\u0435\\u043d\\u044c \\u0431\\u043e\\u043b\\u044c\\u043d\\u0430\\u044f, \\u0435\\u043b\\u0435 \\u0445\\u043e\\u0434\\u0438\\u0442) \\u043f\\u043e\\u0441\\u0442\\u0443\\u043f\\u0430\\u044e\\u0442 \\u043f\\u043e\\u0441\\u0442\\u043e\\u044f\\u043d\\u043d\\u043e \\u0437\\u0432\\u043e\\u043d\\u043a\\u0438 \\u043e\\u0431 \\u043e\\u043f\\u043b\\u0430\\u0442\\u0435 \\u0434\\u043e\\u043b\\u0433\\u0430. \\u0414\\u043e\\u043b\\u0433 \\u044d\\u0442\\u043e\\u0442 \\u043f\\u0440\\u0438\\u043d\\u0430\\u0434\\u043b\\u0435\\u0436\\u0438\\u0442 \\u0434\\u0440\\u0443\\u0433\\u043e\\u043c\\u0443 \\u0447\\u0435\\u043b\\u043e\\u0432\\u0435\\u043a\\u0443, \\u043f\\u0440\\u043e\\u0436\\u0438\\u0432\\u0430\\u0432\\u0448\\u0435\\u043c\\u0443 \\u043f\\u043e \\u044d\\u0442\\u043e\\u043c\\u0443 \\u0430\\u0434\\u0440\\u0435\\u0441\\u0443 \\u0440\\u0430\\u043d\\u0435\\u0435. \\u0417\\u0432\\u043e\\u043d\\u043a\\u0438 \\u0440\\u0430\\u0437\\u0434\\u0430\\u044e\\u0442\\u0441\\u044f \\u0438 \\u0440\\u0430\\u043d\\u043e \\u0443\\u0442\\u0440\\u043e\\u043c, \\u0438 \\u043f\\u043e\\u0437\\u0434\\u043d\\u043e \\u0432\\u0435\\u0447\\u0435\\u0440\\u043e\\u043c \\u0441 \\u0438\\u043d\\u0442\\u0435\\u0440\\u0432\\u0430\\u043b\\u043e\\u043c 10 \\u043c\\u0438\\u043d. \\u042d\\u0442\\u043e \\u043f\\u0440\\u043e\\u0441\\u0442\\u043e \\u0438\\u0437\\u0434\\u0435\\u0432\\u0430\\u0442\\u0435\\u043b\\u044c\\u0441\\u0442\\u0432\\u043e \\u043d\\u0430\\u0434 \\u0431\\u043e\\u043b\\u044c\\u043d\\u044b\\u043c \\u0447\\u0435\\u043b\\u043e\\u0432\\u0435\\u043a\\u043e\\u043c.  \\u041d\\u0435\\u043e\\u0434\\u043d\\u043e\\u043a\\u0440\\u0430\\u0442\\u043d\\u043e \\u044f \\u0432 \\u0442\\u0435\\u0447\\u0435\\u043d\\u0438\\u0435 2-\\u0445 \\u043c\\u0435\\u0441\\u044f\\u0446\\u0435\\u0432 \\u0441\\u043e\\u043e\\u0431\\u0449\\u0430\\u043b\\u0430 \\u0431\\u0430\\u043d\\u043a\\u0443, \\u0447\\u0442\\u043e \\u0432 \\u044d\\u0442\\u043e\\u0439 \\u043a\\u0432\\u0430\\u0440\\u0442\\u0438\\u0440\\u0435 \\u0438\\u0445 \\u0434\\u043e\\u043b\\u0436\\u043d\\u0438\\u043a \\u043d\\u0435 \\u043f\\u0440\\u043e\\u0436\\u0438\\u0432\\u0430\\u0435\\u0442, \\u0441\\u043e\\u043e\\u0431\\u0449\\u0438\\u043b\\u0430 \\u0435\\u0433\\u043e \\u043d\\u043e\\u0432\\u044b\\u0439 \\u0430\\u0434\\u0440\\u0435\\u0441 \\u0438 \\u0442\\u0435\\u043b\\u0435\\u0444\\u043e\\u043d, \\u043d\\u043e \\u0437\\u0432\\u043e\\u043d\\u043a\\u0438 \\u043f\\u0440\\u043e\\u0434\\u043e\\u043b\\u0436\\u0430\\u044e\\u0442\\u0441\\u044f. \\u041c\\u043d\\u0435 \\u0442\\u0430\\u043a\\u0436\\u0435 \\u0437\\u0430\\u044f\\u0432\\u0438\\u043b\\u0438 \\u043f\\u043e \\u0442\\u0435\\u043b\\u0435\\u0444\\u043e\\u043d\\u0443 \\u0438\\u0437 \\u0441\\u043b\\u0443\\u0436\\u0431\\u044b \\u0431\\u0435\\u0437\\u043e\\u043f\\u0430\\u0441\\u043d\\u043e\\u0441\\u0442\\u0438, \\u0447\\u0442\\u043e \\u0432\\u0438\\u043d\\u043e\\u0432\\u0430\\u0442 \\u0432 \\u044d\\u0442\\u0438\\u0445 \\u0437\\u0432\\u043e\\u043d\\u043a\\u0430\\u0445 \\u043d\\u0435\\u043f\\u043b\\u0430\\u0442\\u0435\\u043b\\u044c\\u0449\\u0438\\u043a. \\u0422\\u043e \\u0435\\u0441\\u0442\\u044c, \\u043e\\u043d\\u0438 \\u0445\\u043e\\u0442\\u0435\\u043b\\u0438 \\u043d\\u0430\\u043a\\u0430\\u0437\\u0430\\u0442\\u044c \\u0435\\u0433\\u043e, \\u0430 \\u043d\\u0430\\u043a\\u0430\\u0437\\u044b\\u0432\\u0430\\u044e\\u0442 \\u043d\\u0435\\u0432\\u0438\\u043d\\u043d\\u044b\\u0445 \\u043b\\u044e\\u0434\\u0435\\u0439. \\u0422\\u0430\\u043a\\u043e\\u0435 \\u0432\\u043f\\u0435\\u0447\\u0430\\u0442\\u043b\\u0435\\u043d\\u0438\\u0435, \\u0447\\u0442\\u043e \\u043a\\u0440\\u043e\\u043c\\u0435 \\u0437\\u0432\\u043e\\u043d\\u043a\\u043e\\u0432 \\u043d\\u0438\\u043a\\u0430\\u043a\\u043e\\u0433\\u043e \\u0434\\u0440\\u0443\\u0433\\u043e\\u0433\\u043e \\u0441\\u043f\\u043e\\u0441\\u043e\\u0431\\u0430 \\u0432\\u043e\\u0437\\u0434\\u0435\\u0439\\u0441\\u0442\\u0432\\u043e\\u0432\\u0430\\u0442\\u044c \\u043d\\u0435 \\u0441\\u0443\\u0449\\u0435\\u0441\\u0442\\u0432\\u0443\\u0435\\u0442. \\u0418 \\u0434\\u043e\\u043b\\u0433\\u043e \\u043b\\u0438 \\u044d\\u0442\\u043e \\u0431\\u0443\\u0434\\u0435\\u0442 \\u043f\\u0440\\u043e\\u0434\\u043e\\u043b\\u0436\\u0430\\u0442\\u044c\\u0441\\u044f? \\u041d\\u0435\\u0443\\u0436\\u0435\\u043b\\u0438 \\u0437\\u0430 2 \\u043c\\u0435\\u0441\\u044f\\u0446\\u0430 \\u0442\\u0430\\u043a \\u0442\\u0440\\u0443\\u0434\\u043d\\u043e \\u043f\\u0440\\u043e\\u0432\\u0435\\u0440\\u0438\\u0442\\u044c, \\u043a\\u0442\\u043e \\u043d\\u0430 \\u0441\\u0430\\u043c\\u043e\\u043c \\u0434\\u0435\\u043b\\u0435 \\u0436\\u0438\\u0432\\u0435\\u0442 \\u043f\\u043e \\u0434\\u0430\\u043d\\u043d\\u043e\\u043c\\u0443 \\u0430\\u0434\\u0440\\u0435\\u0441\\u0443? \\u041d\\u0430\\u0432\\u0435\\u0440\\u043d\\u043e\\u0435 \\u0443 \\u0440\\u0430\\u0431\\u043e\\u0442\\u043d\\u0438\\u043a\\u043e\\u0432 \\u0431\\u0430\\u043d\\u043a\\u0430 \\u0432\\u0441\\u0435 \\u0436\\u0438\\u0432\\u044b \\u0438 \\u0437\\u0434\\u043e\\u0440\\u043e\\u0432\\u044b \\u0438 \\u043e\\u043d\\u0438 \\u0434\\u0443\\u043c\\u0430\\u044e\\u0442, \\u0447\\u0442\\u043e \\u0441\\u0430\\u043c\\u0438 \\u043d\\u0438\\u043a\\u043e\\u0433\\u0434\\u0430 \\u043d\\u0435 \\u0431\\u0443\\u0434\\u0443\\u0442 \\u0432 \\u0442\\u0430\\u043a\\u043e\\u0439 \\u0441\\u0438\\u0442\\u0443\\u0430\\u0446\\u0438\\u0438. \\u041d\\u0430\\u0448\\u0435\\u043c\\u0443 \\u0442\\u0435\\u0440\\u043f\\u0435\\u043d\\u0438\\u044e \\u043f\\u0440\\u0438\\u0448\\u0435\\u043b \\u043a\\u043e\\u043d\\u0435\\u0446. \\u0412\\u0438\\u0434\\u0438\\u043c\\u043e \\u043f\\u0440\\u0438\\u0434\\u0435\\u0442\\u0441\\u044f \\u043e\\u0431\\u0440\\u0430\\u0442\\u0438\\u0442\\u044c\\u0441\\u044f \\u0432 \\u043f\\u0440\\u043e\\u043a\\u0443\\u0440\\u0430\\u0442\\u0443\\u0440\\u0443, \\u0426\\u0411 \\u0438 \\u0420\\u043e\\u0441\\u043f\\u043e\\u0442\\u0440\\u0435\\u0431\\u043d\\u0430\\u0434\\u0437\\u043e\\u0440.\",\n          \"\\u0427\\u0435\\u0442\\u0432\\u0451\\u0440\\u0442\\u044b\\u0439 \\u0434\\u0435\\u043d\\u044c \\u0437\\u0430\\u0431\\u043b\\u043e\\u043a\\u0438\\u0440\\u043e\\u0432\\u0430\\u043d \\u043a\\u043e\\u0448\\u0435\\u043b\\u0451\\u043a. \\u0418\\u0441\\u043f\\u043e\\u043b\\u044c\\u0437\\u0443\\u044e \\u043a\\u043e\\u0448\\u0435\\u043b\\u0451\\u043a \\u0434\\u043b\\u044f \\u043e\\u043f\\u043b\\u0430\\u0442\\u044b \\u0442\\u043e\\u0432\\u0430\\u0440\\u043e\\u0432 \\u0438 \\u0443\\u0441\\u043b\\u0443\\u0433 \\u0447\\u0435\\u0440\\u0435\\u0437 \\u0438\\u043d\\u0442\\u0435\\u0440\\u043d\\u0435\\u0442. \\u041a\\u043e\\u0448\\u0435\\u043b\\u0451\\u043a \\u0437\\u0430\\u0431\\u043b\\u043e\\u043a\\u0438\\u0440\\u043e\\u0432\\u0430\\u043b\\u0438 \\u0441\\u0440\\u0430\\u0437\\u0443 \\u043f\\u043e\\u0441\\u043b\\u0435 \\u0442\\u043e\\u0433\\u043e \\u043a\\u0430\\u043a \\u043d\\u0430 \\u043d\\u0435\\u0433\\u043e \\u043f\\u043e\\u0441\\u0442\\u0443\\u043f\\u0438\\u043b\\u0438 \\u0434\\u0435\\u043d\\u044c\\u0433\\u0438 \\u043e\\u0442 \\u0440\\u043e\\u0434\\u0441\\u0442\\u0432\\u0435\\u043d\\u043d\\u0438\\u043a\\u043e\\u0432. \\u0421\\u0435\\u0433\\u043e\\u0434\\u043d\\u044f \\u043f\\u0440\\u043e\\u0448\\u0451\\u043b \\u0438\\u0434\\u0435\\u043d\\u0442\\u0438\\u0444\\u0438\\u043a\\u0430\\u0446\\u0438\\u044e \\u043f\\u043e\\u043b\\u044c\\u0437\\u043e\\u0432\\u0430\\u0442\\u0435\\u043b\\u044f \\u0432 \\u043e\\u0442\\u0434\\u0435\\u043b\\u0435\\u043d\\u0438\\u0438 \\u0431\\u0430\\u043d\\u043a\\u0430 Contact. \\u041f\\u0440\\u043e\\u0446\\u0435\\u0434\\u0443\\u0440\\u0430 \\u044d\\u0442\\u0430 \\u043f\\u043b\\u0430\\u0442\\u043d\\u0430\\u044f.  \\u041e\\u0442\\u0441\\u044e\\u0434\\u0430 \\u0432\\u043e\\u043f\\u0440\\u043e\\u0441: \\u041f\\u043e\\u0447\\u0435\\u043c\\u0443 \\u044f \\u0434\\u043e\\u043b\\u0436\\u0435\\u043d \\u043f\\u043b\\u0430\\u0442\\u0438\\u0442\\u044c? \\u041d\\u043e \\u043d\\u0435 \\u0432 \\u044d\\u0442\\u043e\\u043c \\u0434\\u0435\\u043b\\u043e, \\u043a\\u043e\\u0448\\u0435\\u043b\\u0451\\u043a \\u0434\\u043e \\u0441\\u0438\\u0445 \\u043f\\u043e\\u0440 \\u0437\\u0430\\u0431\\u043b\\u043e\\u043a\\u0438\\u0440\\u043e\\u0432\\u0430\\u043d. \\u041e\\u0442 \\u0410\\u0434\\u043c\\u0438\\u043d\\u0438\\u0441\\u0442\\u0440\\u0430\\u0442\\u043e\\u0440\\u0430:   \\u0410\\u0432\\u0442\\u043e\\u0440\\u0443: \\\"\\u0418\\u0434\\u0435\\u043d\\u0442\\u0438\\u0444\\u0438\\u043a\\u0430\\u0446\\u0438\\u044e \\u0432 \\u0441\\u0438\\u0441\\u0442\\u0435\\u043c\\u0435 contact \\u043f\\u0440\\u043e\\u0448\\u0451\\u043b..\\\" - \\u0443\\u0442\\u043e\\u0447\\u043d\\u0438\\u0442\\u0435 \\u0434\\u0430\\u0442\\u0443.\"\n        ],\n        \"semantic_type\": \"\",\n        \"description\": \"\"\n      }\n    },\n    {\n      \"column\": \"label\",\n      \"properties\": {\n        \"dtype\": \"number\",\n        \"std\": 0,\n        \"min\": 0,\n        \"max\": 1,\n        \"num_unique_values\": 2,\n        \"samples\": [\n          0,\n          1\n        ],\n        \"semantic_type\": \"\",\n        \"description\": \"\"\n      }\n    }\n  ]\n}"
            }
          },
          "metadata": {},
          "execution_count": 23
        }
      ]
    },
    {
      "cell_type": "markdown",
      "source": [
        "Теперь делим наши 10 000 отзывов (5000+5000) на:\n",
        "\n",
        "обучающую выборку (например, 80%)\n",
        "\n",
        "тестовую выборку (оставшиеся 20%)"
      ],
      "metadata": {
        "id": "9B7V8gAxHLe5"
      }
    },
    {
      "cell_type": "code",
      "source": [
        "from sklearn.model_selection import train_test_split\n",
        "\n",
        "# 🔹 Разделение данных\n",
        "X_train, X_test, y_train, y_test = train_test_split(\n",
        "    df_binary[\"text\"], df_binary[\"label\"],\n",
        "    test_size=0.2,\n",
        "    random_state=42,\n",
        "    stratify=df_binary[\"label\"]\n",
        ")\n",
        "\n",
        "# 🔍 Проверка\n",
        "print(f\"Обучающая выборка: {len(X_train)} примеров\")\n",
        "print(f\"Тестовая выборка: {len(X_test)} примеров\")\n"
      ],
      "metadata": {
        "colab": {
          "base_uri": "https://localhost:8080/"
        },
        "id": "TDF0ceFbHOtA",
        "outputId": "0688bcca-f57f-4127-ec89-2893595a898e"
      },
      "execution_count": 24,
      "outputs": [
        {
          "output_type": "stream",
          "name": "stdout",
          "text": [
            "Обучающая выборка: 8000 примеров\n",
            "Тестовая выборка: 2000 примеров\n"
          ]
        }
      ]
    },
    {
      "cell_type": "markdown",
      "source": [
        "## Задача 3.2 Baseline-классификация текстов"
      ],
      "metadata": {
        "id": "ffjLR7NeHbjq"
      }
    },
    {
      "cell_type": "markdown",
      "source": [
        "Сделаем базовую модель:\n",
        "\n",
        "Векторизация: TF-IDF на униграммах\n",
        "\n",
        "Классификатор: LogisticRegression (простой, но мощный baseline)\n",
        "\n",
        "Оценка: accuracy, F1-score"
      ],
      "metadata": {
        "id": "2eq8fgN_HiSU"
      }
    },
    {
      "cell_type": "code",
      "source": [
        "from sklearn.pipeline import Pipeline\n",
        "from sklearn.feature_extraction.text import TfidfVectorizer\n",
        "from sklearn.linear_model import LogisticRegression\n",
        "from sklearn.metrics import accuracy_score, f1_score, classification_report\n",
        "\n",
        "# 🔹 Pipeline: TF-IDF + LogisticRegression\n",
        "baseline_pipe = Pipeline([\n",
        "    ('tfidf', TfidfVectorizer(ngram_range=(1, 1))),  # только униграммы\n",
        "    ('clf', LogisticRegression(max_iter=1000, random_state=42))\n",
        "])\n",
        "\n",
        "# 🔹 Обучение\n",
        "baseline_pipe.fit(X_train, y_train)\n",
        "\n",
        "# 🔹 Предсказание\n",
        "y_pred = baseline_pipe.predict(X_test)\n",
        "\n",
        "# 🔹 Оценка\n",
        "print(\"Accuracy:\", accuracy_score(y_test, y_pred))\n",
        "print(\"F1-score:\", f1_score(y_test, y_pred))\n",
        "print(\"\\nClassification report:\\n\", classification_report(y_test, y_pred))\n"
      ],
      "metadata": {
        "colab": {
          "base_uri": "https://localhost:8080/"
        },
        "id": "DFug1Nr_Hk1a",
        "outputId": "73c16fae-3456-45ab-a168-20d2af9d63da"
      },
      "execution_count": 25,
      "outputs": [
        {
          "output_type": "stream",
          "name": "stdout",
          "text": [
            "Accuracy: 0.952\n",
            "F1-score: 0.951417004048583\n",
            "\n",
            "Classification report:\n",
            "               precision    recall  f1-score   support\n",
            "\n",
            "           0       0.94      0.96      0.95      1000\n",
            "           1       0.96      0.94      0.95      1000\n",
            "\n",
            "    accuracy                           0.95      2000\n",
            "   macro avg       0.95      0.95      0.95      2000\n",
            "weighted avg       0.95      0.95      0.95      2000\n",
            "\n"
          ]
        }
      ]
    },
    {
      "cell_type": "markdown",
      "source": [
        "##Baseline-модель (TF-IDF на униграммах + Logistic Regression):\n",
        "\n",
        "Accuracy: 0.952\n",
        "\n",
        "F1-score: 0.951\n",
        "\n",
        "Модель отлично различает резко положительные и отрицательные отзывы, сбалансированная по precision/recall."
      ],
      "metadata": {
        "id": "UJhUo21NHvog"
      }
    },
    {
      "cell_type": "markdown",
      "source": [
        "**Сравнение разных вариантов векторизации текста**"
      ],
      "metadata": {
        "id": "-xkLfqRPIBXe"
      }
    },
    {
      "cell_type": "markdown",
      "source": [
        "Тексты представляем в виде векторов несколькими способами:\n",
        "\n",
        "🔹 1. TF-IDF с униграммами\n",
        "\n",
        "– ngram_range=(1, 1)\n",
        "– Accuracy: 0.952, F1: 0.951"
      ],
      "metadata": {
        "id": "5q8rOvRRIKEs"
      }
    },
    {
      "cell_type": "markdown",
      "source": [
        "🔹 2. TF-IDF с униграммами + биграммами"
      ],
      "metadata": {
        "id": "QhRxNYMnIPl2"
      }
    },
    {
      "cell_type": "code",
      "source": [
        "from sklearn.pipeline import Pipeline\n",
        "from sklearn.feature_extraction.text import TfidfVectorizer\n",
        "from sklearn.linear_model import LogisticRegression\n",
        "from sklearn.metrics import accuracy_score, f1_score\n",
        "\n",
        "# 🔹 Биграммы\n",
        "pipe_bigram = Pipeline([\n",
        "    ('tfidf', TfidfVectorizer(ngram_range=(1, 2), max_features=30000)),\n",
        "    ('clf', LogisticRegression(max_iter=1000, random_state=42))\n",
        "])\n",
        "\n",
        "pipe_bigram.fit(X_train, y_train)\n",
        "y_pred_bigram = pipe_bigram.predict(X_test)\n",
        "\n",
        "print(\"📘 TF-IDF (1-2 граммы)\")\n",
        "print(\"Accuracy:\", accuracy_score(y_test, y_pred_bigram))\n",
        "print(\"F1-score:\", f1_score(y_test, y_pred_bigram))\n"
      ],
      "metadata": {
        "colab": {
          "base_uri": "https://localhost:8080/"
        },
        "id": "sA4rJWoTISY8",
        "outputId": "a093ebe3-83de-4573-913f-9edf3dec891d"
      },
      "execution_count": 26,
      "outputs": [
        {
          "output_type": "stream",
          "name": "stdout",
          "text": [
            "📘 TF-IDF (1-2 граммы)\n",
            "Accuracy: 0.9535\n",
            "F1-score: 0.9526717557251908\n"
          ]
        }
      ]
    },
    {
      "cell_type": "markdown",
      "source": [
        "🔹 3. TF-IDF с униграммами, биграммами и триграммами"
      ],
      "metadata": {
        "id": "D-xiOBb4IfJT"
      }
    },
    {
      "cell_type": "code",
      "source": [
        "# 🔹 Триграммы\n",
        "pipe_trigram = Pipeline([\n",
        "    ('tfidf', TfidfVectorizer(ngram_range=(1, 3), max_features=30000)),\n",
        "    ('clf', LogisticRegression(max_iter=1000, random_state=42))\n",
        "])\n",
        "\n",
        "pipe_trigram.fit(X_train, y_train)\n",
        "y_pred_trigram = pipe_trigram.predict(X_test)\n",
        "\n",
        "print(\"📘 TF-IDF (1-3 граммы)\")\n",
        "print(\"Accuracy:\", accuracy_score(y_test, y_pred_trigram))\n",
        "print(\"F1-score:\", f1_score(y_test, y_pred_trigram))\n"
      ],
      "metadata": {
        "colab": {
          "base_uri": "https://localhost:8080/"
        },
        "id": "qoflTj1SIg40",
        "outputId": "459018ed-4c83-486f-bb15-992d918f1a6a"
      },
      "execution_count": 27,
      "outputs": [
        {
          "output_type": "stream",
          "name": "stdout",
          "text": [
            "📘 TF-IDF (1-3 граммы)\n",
            "Accuracy: 0.9525\n",
            "F1-score: 0.9517521584560691\n"
          ]
        }
      ]
    },
    {
      "cell_type": "markdown",
      "source": [
        "🔹 4. Символьные n-граммы (например, 3–5 символов)"
      ],
      "metadata": {
        "id": "GIvpNEbgIuQ-"
      }
    },
    {
      "cell_type": "code",
      "source": [
        "# 🔹 Символьные n-граммы\n",
        "pipe_char = Pipeline([\n",
        "    ('tfidf', TfidfVectorizer(analyzer='char', ngram_range=(3, 5), max_features=30000)),\n",
        "    ('clf', LogisticRegression(max_iter=1000, random_state=42))\n",
        "])\n",
        "\n",
        "pipe_char.fit(X_train, y_train)\n",
        "y_pred_char = pipe_char.predict(X_test)\n",
        "\n",
        "print(\"📘 TF-IDF (символьные 3-5-граммы)\")\n",
        "print(\"Accuracy:\", accuracy_score(y_test, y_pred_char))\n",
        "print(\"F1-score:\", f1_score(y_test, y_pred_char))\n"
      ],
      "metadata": {
        "colab": {
          "base_uri": "https://localhost:8080/"
        },
        "id": "3LGIIbHJIwb_",
        "outputId": "7acbb275-56dc-431b-b108-0e85c16b640e"
      },
      "execution_count": 28,
      "outputs": [
        {
          "output_type": "stream",
          "name": "stdout",
          "text": [
            "📘 TF-IDF (символьные 3-5-граммы)\n",
            "Accuracy: 0.955\n",
            "F1-score: 0.9540816326530612\n"
          ]
        }
      ]
    },
    {
      "cell_type": "markdown",
      "source": [
        "| Векторизация                       | Accuracy  | F1-score   |\n",
        "| ---------------------------------- | --------- | ---------- |\n",
        "| **TF-IDF (униграммы)**             | 0.952     | 0.951      |\n",
        "| **TF-IDF (1–2 граммы)**            | 0.9535    | 0.9527     |\n",
        "| **TF-IDF (1–3 граммы)**            | 0.9525    | 0.9518     |\n",
        "| **TF-IDF (символьные 3–5-граммы)** | **0.955** | **0.9541** |\n"
      ],
      "metadata": {
        "id": "k9VsOK_7JHa-"
      }
    },
    {
      "cell_type": "markdown",
      "source": [
        "## Вывод:\n",
        "\n",
        "Символьные 3–5-граммы показали лучшее качество по всем метрикам.\n",
        "\n",
        "Добавление биграмм немного улучшает baseline, триграммы — незначительно хуже.\n",
        "\n",
        "Униграммы всё ещё сильны, но символы дают больше устойчивости к орфографическим вариациям и ошибкам."
      ],
      "metadata": {
        "id": "ktQzRvZjJLqh"
      }
    },
    {
      "cell_type": "markdown",
      "source": [
        "## Задача 3.3 — использование скрытых тем в качестве признаков"
      ],
      "metadata": {
        "id": "haMMHt5bJeNt"
      }
    },
    {
      "cell_type": "markdown",
      "source": [
        "## Вариант 1 — TF-IDF + TruncatedSVD (LSA)\n"
      ],
      "metadata": {
        "id": "yXZlTq3JJn_l"
      }
    },
    {
      "cell_type": "code",
      "source": [
        "import pandas as pd\n",
        "from sklearn.model_selection import train_test_split\n",
        "\n",
        "# Загрузим JSON-файл\n",
        "df = pd.read_json(\"banki_responses.json.bz2\", lines=True)\n",
        "\n",
        "# Оставим только отзывы с оценкой 1 и 5\n",
        "df_filtered = df[df[\"rating_grade\"].isin([1, 5])].copy()\n",
        "\n",
        "# Задаём метки: 1 → негатив (0), 5 → позитив (1)\n",
        "df_filtered[\"label\"] = df_filtered[\"rating_grade\"].apply(lambda x: 0 if x == 1 else 1)\n",
        "\n",
        "# Удалим пропуски (если есть)\n",
        "df_filtered = df_filtered[[\"text\", \"label\"]].dropna()\n",
        "\n",
        "# Балансировка: по 5000 примеров каждого класса\n",
        "min_count = min(df_filtered[\"label\"].value_counts().min(), 5000)\n",
        "\n",
        "df_pos = df_filtered[df_filtered[\"label\"] == 1].sample(min_count, random_state=42)\n",
        "df_neg = df_filtered[df_filtered[\"label\"] == 0].sample(min_count, random_state=42)\n",
        "df_binary = pd.concat([df_pos, df_neg]).sample(frac=1, random_state=42).reset_index(drop=True)\n",
        "\n",
        "# Финальное разделение на обучающую и тестовую выборку\n",
        "train, test = train_test_split(df_binary, test_size=0.2, stratify=df_binary[\"label\"], random_state=42)\n",
        "\n",
        "print(\"✅ Подготовка завершена.\")\n",
        "print(\"🔹 Обучающая выборка:\", train.shape)\n",
        "print(\"🔹 Тестовая выборка:\", test.shape)\n"
      ],
      "metadata": {
        "colab": {
          "base_uri": "https://localhost:8080/"
        },
        "id": "OJpBvgghKwHR",
        "outputId": "b3a5549b-a4a8-443c-ae77-d572a1df8fe3"
      },
      "execution_count": 32,
      "outputs": [
        {
          "output_type": "stream",
          "name": "stdout",
          "text": [
            "✅ Подготовка завершена.\n",
            "🔹 Обучающая выборка: (8000, 2)\n",
            "🔹 Тестовая выборка: (2000, 2)\n"
          ]
        }
      ]
    },
    {
      "cell_type": "markdown",
      "source": [
        "## Векторизация TF-IDF и понижение размерности через TruncatedSVD (LSA)"
      ],
      "metadata": {
        "id": "yngQTpAzLzo2"
      }
    },
    {
      "cell_type": "code",
      "source": [
        "from sklearn.feature_extraction.text import TfidfVectorizer\n",
        "from sklearn.decomposition import TruncatedSVD\n",
        "\n",
        "# 🔹 Векторизация TF-IDF\n",
        "tfidf_vectorizer = TfidfVectorizer(max_features=10000, ngram_range=(1, 1))\n",
        "X_tfidf_train = tfidf_vectorizer.fit_transform(train[\"text\"])\n",
        "X_tfidf_test = tfidf_vectorizer.transform(test[\"text\"])\n",
        "\n",
        "# 🔹 Truncated SVD (LSA)\n",
        "svd = TruncatedSVD(n_components=100, random_state=42)\n",
        "X_svd_train = svd.fit_transform(X_tfidf_train)\n",
        "X_svd_test = svd.transform(X_tfidf_test)\n"
      ],
      "metadata": {
        "id": "hAK8gd4KL7LF"
      },
      "execution_count": 33,
      "outputs": []
    },
    {
      "cell_type": "code",
      "source": [
        "from sklearn.linear_model import LogisticRegression\n",
        "from sklearn.metrics import accuracy_score, f1_score, classification_report\n",
        "\n",
        "# 🔹 Обучение логистической регрессии\n",
        "clf = LogisticRegression(random_state=42, max_iter=1000)\n",
        "clf.fit(X_svd_train, train[\"label\"])\n",
        "\n",
        "# 🔹 Предсказание\n",
        "y_pred = clf.predict(X_svd_test)\n",
        "\n",
        "# 🔹 Оценка качества\n",
        "accuracy = accuracy_score(test[\"label\"], y_pred)\n",
        "f1 = f1_score(test[\"label\"], y_pred)\n",
        "report = classification_report(test[\"label\"], y_pred)\n",
        "\n",
        "print(f\"📘 Accuracy (TF-IDF + SVD): {accuracy:.4f}\")\n",
        "print(f\"📘 F1-score (TF-IDF + SVD): {f1:.4f}\\n\")\n",
        "print(\"📘 Classification report:\")\n",
        "print(report)\n"
      ],
      "metadata": {
        "colab": {
          "base_uri": "https://localhost:8080/"
        },
        "id": "O7DUJTUOMQEW",
        "outputId": "9c1c16f4-8c88-40d8-ecb9-03356283763b"
      },
      "execution_count": 34,
      "outputs": [
        {
          "output_type": "stream",
          "name": "stdout",
          "text": [
            "📘 Accuracy (TF-IDF + SVD): 0.9320\n",
            "📘 F1-score (TF-IDF + SVD): 0.9305\n",
            "\n",
            "📘 Classification report:\n",
            "              precision    recall  f1-score   support\n",
            "\n",
            "           0       0.91      0.95      0.93      1000\n",
            "           1       0.95      0.91      0.93      1000\n",
            "\n",
            "    accuracy                           0.93      2000\n",
            "   macro avg       0.93      0.93      0.93      2000\n",
            "weighted avg       0.93      0.93      0.93      2000\n",
            "\n"
          ]
        }
      ]
    },
    {
      "cell_type": "markdown",
      "source": [
        "Вариант 1 завершён — TF-IDF + TruncatedSVD (LSA):\n",
        "\n",
        "🔹 Accuracy: 93.2%\n",
        "🔹 F1-score: 93.05%\n",
        "\n",
        "📌 Итог: немного хуже, чем при использовании \"сырых\" TF-IDF-грамм (напомним, было до 95.5% с символьными n-граммами), но результат вполне конкурентный. LSA уменьшает размерность, что может быть полезно при ограниченных ресурсах или как часть пайплайна."
      ],
      "metadata": {
        "id": "-M92XT2VMYmi"
      }
    },
    {
      "cell_type": "markdown",
      "source": [
        "## Вариант 2 — тематические модели LDA (LatentDirichletAllocation)"
      ],
      "metadata": {
        "id": "iCv-sh8GMf9X"
      }
    },
    {
      "cell_type": "markdown",
      "source": [
        "План:\n",
        "\n",
        "Векторизуем тексты через CountVectorizer (LDA не работает с TF-IDF).\n",
        "\n",
        "Обучим LatentDirichletAllocation из sklearn на обучающих данных.\n",
        "\n",
        "Получим для каждого текста вектор распределения по темам.\n",
        "\n",
        "Обучим LogisticRegression по этим признакам и оценим на тесте.\n",
        "\n"
      ],
      "metadata": {
        "id": "aGNwQVdyMmpY"
      }
    },
    {
      "cell_type": "code",
      "source": [
        "from sklearn.feature_extraction.text import CountVectorizer\n",
        "\n",
        "# 🔹 Векторизация для LDA (только uni-граммы)\n",
        "count_vectorizer = CountVectorizer(max_features=10000)\n",
        "X_count_train = count_vectorizer.fit_transform(train[\"text\"])\n",
        "X_count_test = count_vectorizer.transform(test[\"text\"])\n",
        "\n",
        "# 👁 Проверяем размерности\n",
        "print(\"📦 Матрица для LDA:\")\n",
        "print(\"Обучающая выборка:\", X_count_train.shape)\n",
        "print(\"Тестовая выборка:\", X_count_test.shape)\n"
      ],
      "metadata": {
        "colab": {
          "base_uri": "https://localhost:8080/"
        },
        "id": "NjzZMeOQMq83",
        "outputId": "2051f9d8-22a5-40d0-fe0d-02e398e0cf5b"
      },
      "execution_count": 35,
      "outputs": [
        {
          "output_type": "stream",
          "name": "stdout",
          "text": [
            "📦 Матрица для LDA:\n",
            "Обучающая выборка: (8000, 10000)\n",
            "Тестовая выборка: (2000, 10000)\n"
          ]
        }
      ]
    },
    {
      "cell_type": "code",
      "source": [
        "from sklearn.decomposition import LatentDirichletAllocation\n",
        "\n",
        "# 🔹 Обучаем LDA (количество тем выбираем 100, аналогично SVD)\n",
        "lda = LatentDirichletAllocation(n_components=100, random_state=42, learning_method='batch')\n",
        "X_lda_train = lda.fit_transform(X_count_train)\n",
        "X_lda_test = lda.transform(X_count_test)\n",
        "\n",
        "# 👁 Проверим размерности новых признаков\n",
        "print(\"🧩 Тематические признаки (LDA):\")\n",
        "print(\"Обучающая выборка:\", X_lda_train.shape)\n",
        "print(\"Тестовая выборка:\", X_lda_test.shape)\n"
      ],
      "metadata": {
        "colab": {
          "base_uri": "https://localhost:8080/"
        },
        "id": "WUWCIgFHMylP",
        "outputId": "addb0ca1-e0de-4c27-aa21-4c2b50afd94a"
      },
      "execution_count": 36,
      "outputs": [
        {
          "output_type": "stream",
          "name": "stdout",
          "text": [
            "🧩 Тематические признаки (LDA):\n",
            "Обучающая выборка: (8000, 100)\n",
            "Тестовая выборка: (2000, 100)\n"
          ]
        }
      ]
    },
    {
      "cell_type": "code",
      "source": [
        "from sklearn.linear_model import LogisticRegression\n",
        "from sklearn.metrics import classification_report, accuracy_score, f1_score\n",
        "\n",
        "# 🔹 Обучаем модель\n",
        "lda_clf = LogisticRegression(max_iter=1000, random_state=42)\n",
        "lda_clf.fit(X_lda_train, train[\"label\"])\n",
        "\n",
        "# 🔹 Предсказания\n",
        "y_pred_lda = lda_clf.predict(X_lda_test)\n",
        "\n",
        "# 🔹 Оценка качества\n",
        "print(\"📘 Accuracy (LDA):\", accuracy_score(test[\"label\"], y_pred_lda))\n",
        "print(\"📘 F1-score (LDA):\", f1_score(test[\"label\"], y_pred_lda))\n",
        "\n",
        "print(\"\\n📘 Classification report:\")\n",
        "print(classification_report(test[\"label\"], y_pred_lda))\n",
        "\n"
      ],
      "metadata": {
        "colab": {
          "base_uri": "https://localhost:8080/"
        },
        "id": "YBu6xTCrOHme",
        "outputId": "16524efa-7c7a-474d-cff4-15e97b2ccb95"
      },
      "execution_count": 37,
      "outputs": [
        {
          "output_type": "stream",
          "name": "stdout",
          "text": [
            "📘 Accuracy (LDA): 0.896\n",
            "📘 F1-score (LDA): 0.8939857288481141\n",
            "\n",
            "📘 Classification report:\n",
            "              precision    recall  f1-score   support\n",
            "\n",
            "           0       0.88      0.92      0.90      1000\n",
            "           1       0.91      0.88      0.89      1000\n",
            "\n",
            "    accuracy                           0.90      2000\n",
            "   macro avg       0.90      0.90      0.90      2000\n",
            "weighted avg       0.90      0.90      0.90      2000\n",
            "\n"
          ]
        }
      ]
    },
    {
      "cell_type": "markdown",
      "source": [
        "| Подход                                | Accuracy | F1-score |\n",
        "| ------------------------------------- | -------- | -------- |\n",
        "| **TF-IDF + TruncatedSVD (LSA)**       | 0.932    | 0.9305   |\n",
        "| **LDA (Latent Dirichlet Allocation)** | 0.896    | 0.894    |\n"
      ],
      "metadata": {
        "id": "GdZLN4PRONFu"
      }
    },
    {
      "cell_type": "markdown",
      "source": [
        "#📌 Выводы:\n",
        "\n",
        "TF-IDF + TruncatedSVD (LSA) показал лучшую точность и лучшую F1-меру по сравнению с тематическим моделированием LDA.\n",
        "\n",
        "Это объяснимо:\n",
        "\n",
        "🔹 TruncatedSVD сохраняет информацию о частотах слов и улавливает \"скрытые смыслы\" в виде линейных комбинаций признаков,\n",
        "\n",
        "🔹 LDA более жестко группирует слова по темам, что снижает гибкость признаков и может терять нюансы.\n",
        "\n",
        "Тем не менее, LDA всё ещё даёт хорошие результаты — почти 90% точности, что делает его вполне рабочим решением, особенно если нужно дополнительно интерпретировать модель через темы."
      ],
      "metadata": {
        "id": "mA7Hp_mJOSqZ"
      }
    }
  ]
}